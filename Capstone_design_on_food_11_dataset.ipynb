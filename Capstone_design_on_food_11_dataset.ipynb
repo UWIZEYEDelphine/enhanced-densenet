{
  "nbformat": 4,
  "nbformat_minor": 0,
  "metadata": {
    "colab": {
      "name": "Capstone_design_on-food-11 dataset.ipynb",
      "provenance": [],
      "authorship_tag": "ABX9TyNo/7yoyHs3/QWjU302AXqf",
      "include_colab_link": true
    },
    "kernelspec": {
      "name": "python3",
      "display_name": "Python 3"
    },
    "accelerator": "GPU"
  },
  "cells": [
    {
      "cell_type": "markdown",
      "metadata": {
        "id": "view-in-github",
        "colab_type": "text"
      },
      "source": [
        "<a href=\"https://colab.research.google.com/github/UWIZEYEDelphine/enhanced-densenet/blob/main/Capstone_design_on_food_11_dataset.ipynb\" target=\"_parent\"><img src=\"https://colab.research.google.com/assets/colab-badge.svg\" alt=\"Open In Colab\"/></a>"
      ]
    },
    {
      "cell_type": "code",
      "metadata": {
        "id": "Fy3a8lkHRTME"
      },
      "source": [
        "import keras\n",
        "from keras.applications.resnet_v2 import ResNet152V2\n",
        "from keras.models import Sequential\n",
        "from keras.layers import Dense, Dropout, Flatten\n",
        "import numpy as np\n",
        "from keras.preprocessing.image import ImageDataGenerator\n",
        "import matplotlib.pyplot as plt"
      ],
      "execution_count": null,
      "outputs": []
    },
    {
      "cell_type": "code",
      "metadata": {
        "id": "oC6RV_WcVjd2"
      },
      "source": [
        "resnet=ResNet152V2(weights='imagenet',include_top=False,input_shape=(300,300,3))\n",
        "for layer in resnet.layers[:]:\n",
        "  layer.trainable=False\n",
        "\n",
        "model=Sequential()\n",
        "model.add(resnet)\n",
        "model.add(Flatten())\n",
        "model.add(Dropout(0.3))\n",
        "model.add(Dense(128, activation='relu'))\n",
        "model.add(Dense(11, activation='softmax'))"
      ],
      "execution_count": null,
      "outputs": []
    },
    {
      "cell_type": "code",
      "metadata": {
        "id": "L8QqLTNHaFwN",
        "colab": {
          "base_uri": "https://localhost:8080/",
          "height": 68
        },
        "outputId": "0c616d44-7993-4ae6-ac31-d8fdd29cbb83"
      },
      "source": [
        "dir1='/content/delphine/food-11/training'\n",
        "dir2='/content/delphine/food-11/validation'\n",
        "\n",
        "gen1=ImageDataGenerator(rescale= 1./255,height_shift_range=0.2,rotation_range=30)\n",
        "gen2=ImageDataGenerator(rescale=1./255)\n",
        "\n",
        "training_data=gen1.flow_from_directory(dir1, batch_size=32, target_size=(300,300))\n",
        "validation_data=gen2.flow_from_directory(dir2, batch_size=32, target_size=(300,300))\n",
        "print(training_data.image_shape)"
      ],
      "execution_count": null,
      "outputs": [
        {
          "output_type": "stream",
          "text": [
            "Found 9866 images belonging to 11 classes.\n",
            "Found 3430 images belonging to 11 classes.\n",
            "(300, 300, 3)\n"
          ],
          "name": "stdout"
        }
      ]
    },
    {
      "cell_type": "code",
      "metadata": {
        "id": "EJfaZ3ULcGAA",
        "colab": {
          "base_uri": "https://localhost:8080/",
          "height": 1000
        },
        "outputId": "7381bd8e-5f66-4f09-e2c9-a974c8d2c9f6"
      },
      "source": [
        "model.compile(optimizer='rmsprop',loss='categorical_crossentropy',metrics='accuracy')\n",
        "history=model.fit(training_data, epochs=40, verbose=1, validation_data=validation_data,steps_per_epoch=320, validation_steps=120)"
      ],
      "execution_count": null,
      "outputs": [
        {
          "output_type": "stream",
          "text": [
            "Epoch 1/40\n",
            "320/320 [==============================] - 432s 1s/step - loss: 2.2148 - accuracy: 0.6483 - val_loss: 1.0647 - val_accuracy: 0.7680\n",
            "Epoch 2/40\n",
            "320/320 [==============================] - 329s 1s/step - loss: 1.0120 - accuracy: 0.7658 - val_loss: 0.9903 - val_accuracy: 0.7955\n",
            "Epoch 3/40\n",
            "320/320 [==============================] - 330s 1s/step - loss: 0.8725 - accuracy: 0.8015 - val_loss: 1.1153 - val_accuracy: 0.7989\n",
            "Epoch 4/40\n",
            "320/320 [==============================] - 329s 1s/step - loss: 0.7590 - accuracy: 0.8239 - val_loss: 1.0120 - val_accuracy: 0.8146\n",
            "Epoch 5/40\n",
            "320/320 [==============================] - 330s 1s/step - loss: 0.7016 - accuracy: 0.8414 - val_loss: 1.0570 - val_accuracy: 0.8173\n",
            "Epoch 6/40\n",
            "320/320 [==============================] - 328s 1s/step - loss: 0.6483 - accuracy: 0.8590 - val_loss: 1.0614 - val_accuracy: 0.8275\n",
            "Epoch 7/40\n",
            "320/320 [==============================] - 329s 1s/step - loss: 0.5872 - accuracy: 0.8729 - val_loss: 1.0036 - val_accuracy: 0.8264\n",
            "Epoch 8/40\n",
            "320/320 [==============================] - 330s 1s/step - loss: 0.5619 - accuracy: 0.8815 - val_loss: 1.2473 - val_accuracy: 0.8309\n",
            "Epoch 9/40\n",
            "320/320 [==============================] - 329s 1s/step - loss: 0.5266 - accuracy: 0.8900 - val_loss: 1.3359 - val_accuracy: 0.8339\n",
            "Epoch 10/40\n",
            "320/320 [==============================] - 327s 1s/step - loss: 0.4614 - accuracy: 0.8990 - val_loss: 1.3437 - val_accuracy: 0.8437\n",
            "Epoch 11/40\n",
            "320/320 [==============================] - 331s 1s/step - loss: 0.4900 - accuracy: 0.9010 - val_loss: 1.4534 - val_accuracy: 0.8377\n",
            "Epoch 12/40\n",
            "320/320 [==============================] - 330s 1s/step - loss: 0.4248 - accuracy: 0.9094 - val_loss: 1.1592 - val_accuracy: 0.8414\n",
            "Epoch 13/40\n",
            "320/320 [==============================] - 329s 1s/step - loss: 0.4402 - accuracy: 0.9113 - val_loss: 1.5054 - val_accuracy: 0.8369\n",
            "Epoch 14/40\n",
            "320/320 [==============================] - 331s 1s/step - loss: 0.4374 - accuracy: 0.9156 - val_loss: 1.3792 - val_accuracy: 0.8537\n",
            "Epoch 15/40\n",
            "320/320 [==============================] - 327s 1s/step - loss: 0.3939 - accuracy: 0.9221 - val_loss: 1.2610 - val_accuracy: 0.8542\n",
            "Epoch 16/40\n",
            "320/320 [==============================] - 331s 1s/step - loss: 0.3579 - accuracy: 0.9278 - val_loss: 1.6413 - val_accuracy: 0.8474\n",
            "Epoch 17/40\n",
            "320/320 [==============================] - 329s 1s/step - loss: 0.3736 - accuracy: 0.9316 - val_loss: 1.7180 - val_accuracy: 0.8421\n",
            "Epoch 18/40\n",
            "320/320 [==============================] - 329s 1s/step - loss: 0.3530 - accuracy: 0.9328 - val_loss: 1.5256 - val_accuracy: 0.8529\n",
            "Epoch 19/40\n",
            "320/320 [==============================] - 330s 1s/step - loss: 0.3464 - accuracy: 0.9365 - val_loss: 1.8816 - val_accuracy: 0.8537\n",
            "Epoch 20/40\n",
            "320/320 [==============================] - 328s 1s/step - loss: 0.3306 - accuracy: 0.9391 - val_loss: 1.6239 - val_accuracy: 0.8526\n",
            "Epoch 21/40\n",
            "320/320 [==============================] - 331s 1s/step - loss: 0.3365 - accuracy: 0.9388 - val_loss: 1.9316 - val_accuracy: 0.8474\n",
            "Epoch 22/40\n",
            "320/320 [==============================] - 329s 1s/step - loss: 0.3422 - accuracy: 0.9407 - val_loss: 1.5782 - val_accuracy: 0.8568\n",
            "Epoch 23/40\n",
            "320/320 [==============================] - 327s 1s/step - loss: 0.3497 - accuracy: 0.9406 - val_loss: 1.7919 - val_accuracy: 0.8542\n",
            "Epoch 24/40\n",
            "320/320 [==============================] - 330s 1s/step - loss: 0.3185 - accuracy: 0.9476 - val_loss: 2.2595 - val_accuracy: 0.8485\n",
            "Epoch 25/40\n",
            "320/320 [==============================] - 330s 1s/step - loss: 0.3189 - accuracy: 0.9472 - val_loss: 2.0241 - val_accuracy: 0.8537\n",
            "Epoch 26/40\n",
            "320/320 [==============================] - 329s 1s/step - loss: 0.3323 - accuracy: 0.9466 - val_loss: 2.0098 - val_accuracy: 0.8529\n",
            "Epoch 27/40\n",
            "320/320 [==============================] - 329s 1s/step - loss: 0.3020 - accuracy: 0.9509 - val_loss: 1.8660 - val_accuracy: 0.8521\n",
            "Epoch 28/40\n",
            "320/320 [==============================] - 329s 1s/step - loss: 0.3202 - accuracy: 0.9496 - val_loss: 2.0157 - val_accuracy: 0.8524\n",
            "Epoch 29/40\n",
            "320/320 [==============================] - 329s 1s/step - loss: 0.2735 - accuracy: 0.9550 - val_loss: 2.2404 - val_accuracy: 0.8506\n",
            "Epoch 30/40\n",
            "320/320 [==============================] - 331s 1s/step - loss: 0.2922 - accuracy: 0.9539 - val_loss: 2.1966 - val_accuracy: 0.8477\n",
            "Epoch 31/40\n",
            "320/320 [==============================] - 329s 1s/step - loss: 0.2874 - accuracy: 0.9561 - val_loss: 2.1936 - val_accuracy: 0.8508\n",
            "Epoch 32/40\n",
            "320/320 [==============================] - 330s 1s/step - loss: 0.2680 - accuracy: 0.9571 - val_loss: 2.2448 - val_accuracy: 0.8553\n",
            "Epoch 33/40\n",
            "320/320 [==============================] - 329s 1s/step - loss: 0.2649 - accuracy: 0.9609 - val_loss: 2.5679 - val_accuracy: 0.8450\n",
            "Epoch 34/40\n",
            "320/320 [==============================] - 331s 1s/step - loss: 0.2672 - accuracy: 0.9581 - val_loss: 2.6228 - val_accuracy: 0.8466\n",
            "Epoch 35/40\n",
            "320/320 [==============================] - 328s 1s/step - loss: 0.2600 - accuracy: 0.9609 - val_loss: 2.3400 - val_accuracy: 0.8529\n",
            "Epoch 36/40\n",
            "320/320 [==============================] - 330s 1s/step - loss: 0.2789 - accuracy: 0.9579 - val_loss: 2.4181 - val_accuracy: 0.8579\n",
            "Epoch 37/40\n",
            "320/320 [==============================] - 329s 1s/step - loss: 0.2698 - accuracy: 0.9604 - val_loss: 2.6540 - val_accuracy: 0.8553\n",
            "Epoch 38/40\n",
            "320/320 [==============================] - 329s 1s/step - loss: 0.2588 - accuracy: 0.9620 - val_loss: 2.3911 - val_accuracy: 0.8576\n",
            "Epoch 39/40\n",
            "320/320 [==============================] - 330s 1s/step - loss: 0.2623 - accuracy: 0.9612 - val_loss: 2.6632 - val_accuracy: 0.8568\n",
            "Epoch 40/40\n",
            "320/320 [==============================] - 329s 1s/step - loss: 0.2623 - accuracy: 0.9614 - val_loss: 2.8347 - val_accuracy: 0.8642\n"
          ],
          "name": "stdout"
        }
      ]
    },
    {
      "cell_type": "code",
      "metadata": {
        "id": "UNMkf8B3F6JY",
        "colab": {
          "base_uri": "https://localhost:8080/",
          "height": 104
        },
        "outputId": "40ea57c4-b9e3-44cf-ec3c-b0ec7117c5bb"
      },
      "source": [
        "from keras.models import save_model\n",
        "save_model(model,'/content/delphine/models/capstone-model')"
      ],
      "execution_count": null,
      "outputs": [
        {
          "output_type": "stream",
          "text": [
            "WARNING:tensorflow:From /home/idblab/anaconda3/envs/jupyter/lib/python3.7/site-packages/tensorflow/python/ops/resource_variable_ops.py:1817: calling BaseResourceVariable.__init__ (from tensorflow.python.ops.resource_variable_ops) with constraint is deprecated and will be removed in a future version.\n",
            "Instructions for updating:\n",
            "If using Keras pass *_constraint arguments to layers.\n",
            "INFO:tensorflow:Assets written to: /content/delphine/models/capstone-model/assets\n"
          ],
          "name": "stdout"
        }
      ]
    },
    {
      "cell_type": "code",
      "metadata": {
        "id": "Zq0OV97R5oab",
        "colab": {
          "base_uri": "https://localhost:8080/",
          "height": 295
        },
        "outputId": "ae506176-06e6-4731-ec96-ecde3580f8fa"
      },
      "source": [
        "plt.plot(history.history['accuracy'])\n",
        "plt.plot(history.history['val_accuracy'])\n",
        "plt.title('model accuracy')\n",
        "plt.ylabel('accuracy')\n",
        "plt.xlabel('epoch')\n",
        "plt.legend(['train', 'val'], loc='upper left')\n",
        "plt.show()"
      ],
      "execution_count": null,
      "outputs": [
        {
          "output_type": "display_data",
          "data": {
            "text/plain": [
              "<Figure size 432x288 with 1 Axes>"
            ],
            "image/png": "[encoded data removed]"
          },
          "metadata": {
            "tags": [],
            "needs_background": "light"
          }
        }
      ]
    },
    {
      "cell_type": "code",
      "metadata": {
        "id": "oo_GUgHrG0_y"
      },
      "source": [
        "!unzip -uq '/content/delphine/food-11.zip'  -d '/content/delphine/food-11/capstone-test'"
      ],
      "execution_count": null,
      "outputs": []
    },
    {
      "cell_type": "code",
      "metadata": {
        "id": "G6WkSR4q5ocA"
      },
      "source": [
        "from keras.models import load_model\n",
        "model= load_model('/content/delphine/models/capstone-model')"
      ],
      "execution_count": null,
      "outputs": []
    },
    {
      "cell_type": "code",
      "metadata": {
        "id": "pGYqhS9zTAoV",
        "colab": {
          "base_uri": "https://localhost:8080/",
          "height": 51
        },
        "outputId": "821ce93f-2b8e-44dc-9e74-acaea0f76715"
      },
      "source": [
        "from keras.preprocessing.image import load_img\n",
        "image= load_img('/content/delphine/food-11/testing-pcs/spgti.jpg', target_size=(300,300))\n",
        "image=np.reshape(image,[1,300,300,3])\n",
        "image=image/255\n",
        "pred=np.argmax(model.predict(image))\n",
        "print(training_data.class_indices)\n",
        "print(pred)"
      ],
      "execution_count": null,
      "outputs": [
        {
          "output_type": "stream",
          "text": [
            "{'bread': 0, 'dessert': 1, 'diary product': 2, 'egg': 3, 'fried food': 4, 'meat': 5, 'noodles, pasta': 6, 'rice': 7, 'seafood': 8, 'soup': 9, 'vegetable, fruit': 10}\n",
            "6\n"
          ],
          "name": "stdout"
        }
      ]
    },
    {
      "cell_type": "code",
      "metadata": {
        "id": "ZtUB__o6yseY",
        "colab": {
          "base_uri": "https://localhost:8080/",
          "height": 34
        },
        "outputId": "9546e92a-c08f-4f36-a0db-b144b983a682"
      },
      "source": [
        "image= load_img('/content/delphine/food-11/testing-pcs/meat1.jpg', target_size=(300,300))\n",
        "image=np.reshape(image,[1,300,300,3])\n",
        "image=image/255\n",
        "pred=np.argmax(model.predict(image))\n",
        "print(pred)"
      ],
      "execution_count": null,
      "outputs": [
        {
          "output_type": "stream",
          "text": [
            "5\n"
          ],
          "name": "stdout"
        }
      ]
    },
    {
      "cell_type": "code",
      "metadata": {
        "id": "AykZfeoWRePY",
        "colab": {
          "base_uri": "https://localhost:8080/",
          "height": 34
        },
        "outputId": "050364c3-2189-4461-ccd0-5798f851fc72"
      },
      "source": [
        "image= load_img('/content/delphine/food-11/testing-pcs/dessert1.jpg', target_size=(300,300))\n",
        "image=np.reshape(image,[1,300,300,3])\n",
        "image=image/255\n",
        "pred=np.argmax(model.predict(image))\n",
        "print(pred)"
      ],
      "execution_count": null,
      "outputs": [
        {
          "output_type": "stream",
          "text": [
            "1\n"
          ],
          "name": "stdout"
        }
      ]
    },
    {
      "cell_type": "code",
      "metadata": {
        "id": "6xHbp-pQ-MjV",
        "colab": {
          "base_uri": "https://localhost:8080/",
          "height": 51
        },
        "outputId": "167d1787-e2e5-4e18-e1ed-b3f7ba92ab29"
      },
      "source": [
        "dir3= '/content/delphine/food-11/capstone-test/breads'\n",
        "test_data=validation_data=gen2.flow_from_directory(dir3, batch_size=1, target_size=(300,300),class_mode=None)\n",
        "#test_data.reset()\n",
        "results=model.predict_generator(test_data,10)\n",
        "result=np.argmax(results,axis=1)\n",
        "print(result)"
      ],
      "execution_count": null,
      "outputs": [
        {
          "output_type": "stream",
          "text": [
            "Found 10 images belonging to 1 classes.\n",
            "[4 0 0 0 3 1 1 1 5 4]\n"
          ],
          "name": "stdout"
        }
      ]
    },
    {
      "cell_type": "code",
      "metadata": {
        "id": "4EPJkqDTAg3O",
        "colab": {
          "base_uri": "https://localhost:8080/",
          "height": 51
        },
        "outputId": "d850846f-597c-4259-a1a0-48398e0d0811"
      },
      "source": [
        "dir3= '/content/delphine/food-11/capstone-test/desserts'\n",
        "test_data=validation_data=gen2.flow_from_directory(dir3, batch_size=1, target_size=(300,300),class_mode=None)\n",
        "#test_data.reset()\n",
        "results=model.predict_generator(test_data,10)\n",
        "result=np.argmax(results,axis=1)\n",
        "print(result)"
      ],
      "execution_count": null,
      "outputs": [
        {
          "output_type": "stream",
          "text": [
            "Found 10 images belonging to 1 classes.\n",
            "[1 9 2 1 2 1 2 1 1 1]\n"
          ],
          "name": "stdout"
        }
      ]
    },
    {
      "cell_type": "code",
      "metadata": {
        "id": "59mQyq5CAwuY",
        "colab": {
          "base_uri": "https://localhost:8080/",
          "height": 51
        },
        "outputId": "bc684c1c-13f8-489b-c79b-077b6a706458"
      },
      "source": [
        "dir3= '/content/delphine/food-11/capstone-test/diary-products'\n",
        "test_data=validation_data=gen2.flow_from_directory(dir3, batch_size=1, target_size=(300,300),class_mode=None)\n",
        "#test_data.reset()\n",
        "results=model.predict_generator(test_data,10)\n",
        "result=np.argmax(results,axis=1)\n",
        "print(result)"
      ],
      "execution_count": null,
      "outputs": [
        {
          "output_type": "stream",
          "text": [
            "Found 10 images belonging to 1 classes.\n",
            "[2 2 1 2 2 2 1 2 2 2]\n"
          ],
          "name": "stdout"
        }
      ]
    },
    {
      "cell_type": "code",
      "metadata": {
        "id": "a2mzSCVwA51F",
        "colab": {
          "base_uri": "https://localhost:8080/",
          "height": 51
        },
        "outputId": "f2291f5c-b423-48df-ce8d-f34bd3feb133"
      },
      "source": [
        "dir3= '/content/delphine/food-11/capstone-test/eggs'\n",
        "test_data=validation_data=gen2.flow_from_directory(dir3, batch_size=1, target_size=(300,300),class_mode=None)\n",
        "#test_data.reset()\n",
        "results=model.predict_generator(test_data,10)\n",
        "result=np.argmax(results,axis=1)\n",
        "print(result)"
      ],
      "execution_count": null,
      "outputs": [
        {
          "output_type": "stream",
          "text": [
            "Found 10 images belonging to 1 classes.\n",
            "[8 3 0 3 1 3 2 3 7 9]\n"
          ],
          "name": "stdout"
        }
      ]
    },
    {
      "cell_type": "code",
      "metadata": {
        "id": "wx3F2_qxBHXU",
        "colab": {
          "base_uri": "https://localhost:8080/",
          "height": 51
        },
        "outputId": "763e448e-a336-4870-b7ed-3aac5b08d45c"
      },
      "source": [
        "dir3= '/content/delphine/food-11/capstone-test/fried-foods'\n",
        "test_data=validation_data=gen2.flow_from_directory(dir3, batch_size=1, target_size=(300,300),class_mode=None)\n",
        "#test_data.reset()\n",
        "results=model.predict_generator(test_data,10)\n",
        "result=np.argmax(results,axis=1)\n",
        "print(result)"
      ],
      "execution_count": null,
      "outputs": [
        {
          "output_type": "stream",
          "text": [
            "Found 10 images belonging to 1 classes.\n",
            "[4 4 4 1 4 4 5 4 4 0]\n"
          ],
          "name": "stdout"
        }
      ]
    },
    {
      "cell_type": "code",
      "metadata": {
        "id": "lYJmcf8wBhxD",
        "colab": {
          "base_uri": "https://localhost:8080/",
          "height": 51
        },
        "outputId": "29bc74a0-ad6e-46e2-fa8a-e9238ffddb43"
      },
      "source": [
        "dir3= '/content/delphine/food-11/capstone-test/meats'\n",
        "test_data=validation_data=gen2.flow_from_directory(dir3, batch_size=1, target_size=(300,300),class_mode=None)\n",
        "#test_data.reset()\n",
        "results=model.predict_generator(test_data,10)\n",
        "result=np.argmax(results,axis=1)\n",
        "print(result)"
      ],
      "execution_count": null,
      "outputs": [
        {
          "output_type": "stream",
          "text": [
            "Found 10 images belonging to 1 classes.\n",
            "[2 3 1 5 5 5 5 5 5 4]\n"
          ],
          "name": "stdout"
        }
      ]
    },
    {
      "cell_type": "code",
      "metadata": {
        "id": "QG3mF9Y4Bwra",
        "colab": {
          "base_uri": "https://localhost:8080/",
          "height": 51
        },
        "outputId": "91dddfea-bd19-43cd-9b3d-2ca82ccdf3cc"
      },
      "source": [
        "dir3= '/content/delphine/food-11/capstone-test/noodles-pastas'\n",
        "test_data=validation_data=gen2.flow_from_directory(dir3, batch_size=1, target_size=(300,300),class_mode=None)\n",
        "#test_data.reset()\n",
        "results=model.predict_generator(test_data,10)\n",
        "result=np.argmax(results,axis=1)\n",
        "print(result)"
      ],
      "execution_count": null,
      "outputs": [
        {
          "output_type": "stream",
          "text": [
            "Found 10 images belonging to 1 classes.\n",
            "[9 3 6 6 1 6 9 6 6 6]\n"
          ],
          "name": "stdout"
        }
      ]
    },
    {
      "cell_type": "code",
      "metadata": {
        "id": "tQWNiAunBwqZ",
        "colab": {
          "base_uri": "https://localhost:8080/",
          "height": 51
        },
        "outputId": "66fd920f-0e8e-4e41-8770-75842bd7531b"
      },
      "source": [
        "dir3= '/content/delphine/food-11/capstone-test/rices'\n",
        "test_data=validation_data=gen2.flow_from_directory(dir3, batch_size=1, target_size=(300,300),class_mode=None)\n",
        "#test_data.reset()\n",
        "results=model.predict_generator(test_data,10)\n",
        "result=np.argmax(results,axis=1)\n",
        "print(result)"
      ],
      "execution_count": null,
      "outputs": [
        {
          "output_type": "stream",
          "text": [
            "Found 9 images belonging to 1 classes.\n",
            "[7 7 7 7 7 7 7 7 1 7]\n"
          ],
          "name": "stdout"
        }
      ]
    },
    {
      "cell_type": "code",
      "metadata": {
        "id": "bwtkNm9HCHaT",
        "colab": {
          "base_uri": "https://localhost:8080/",
          "height": 51
        },
        "outputId": "f0dbc904-b626-4c30-e18b-f32e099f66a1"
      },
      "source": [
        "dir3= '/content/delphine/food-11/capstone-test/seafoods'\n",
        "test_data=validation_data=gen2.flow_from_directory(dir3, batch_size=1, target_size=(300,300),class_mode=None)\n",
        "#test_data.reset()\n",
        "results=model.predict_generator(test_data,10)\n",
        "result=np.argmax(results,axis=1)\n",
        "print(result)"
      ],
      "execution_count": null,
      "outputs": [
        {
          "output_type": "stream",
          "text": [
            "Found 10 images belonging to 1 classes.\n",
            "[1 5 8 8 8 5 2 5 9 1]\n"
          ],
          "name": "stdout"
        }
      ]
    },
    {
      "cell_type": "code",
      "metadata": {
        "id": "istU8EeHCUzb",
        "colab": {
          "base_uri": "https://localhost:8080/",
          "height": 51
        },
        "outputId": "f8d00a8d-1dfc-4880-bd38-e66b903c0967"
      },
      "source": [
        "dir3= '/content/delphine/food-11/capstone-test/soups'\n",
        "test_data=validation_data=gen2.flow_from_directory(dir3, batch_size=1, target_size=(300,300),class_mode=None)\n",
        "#test_data.reset()\n",
        "results=model.predict_generator(test_data,10)\n",
        "result=np.argmax(results,axis=1)\n",
        "print(result)"
      ],
      "execution_count": null,
      "outputs": [
        {
          "output_type": "stream",
          "text": [
            "Found 10 images belonging to 1 classes.\n",
            "[9 9 9 9 9 9 6 9 9 1]\n"
          ],
          "name": "stdout"
        }
      ]
    },
    {
      "cell_type": "code",
      "metadata": {
        "id": "1AGk4g3rCfBf",
        "colab": {
          "base_uri": "https://localhost:8080/",
          "height": 51
        },
        "outputId": "3725541f-f723-4319-9348-2f763d39ccce"
      },
      "source": [
        "dir3= '/content/delphine/food-11/capstone-test/vegetables-fruits'\n",
        "test_data=validation_data=gen2.flow_from_directory(dir3, batch_size=1, target_size=(300,300),class_mode=None)\n",
        "#test_data.reset()\n",
        "results=model.predict_generator(test_data,10)\n",
        "result=np.argmax(results,axis=1)\n",
        "print(result)"
      ],
      "execution_count": null,
      "outputs": [
        {
          "output_type": "stream",
          "text": [
            "Found 10 images belonging to 1 classes.\n",
            "[10  1 10 10 10 10 10 10 10 10]\n"
          ],
          "name": "stdout"
        }
      ]
    },
    {
      "cell_type": "code",
      "metadata": {
        "id": "JHAVKpJfgV_-"
      },
      "source": [
        "history=model\n",
        "plt.figure(figsize=(12, 6))\n",
        "plt.subplot(1, 2, 1)\n",
        "plt.plot(history.history['accuracy'])\n",
        "plt.plot(history.history['val_accuracy'])\n",
        "plt.title('model accuracy')\n",
        "plt.ylabel('accuracy')\n",
        "plt.xlabel('epoch')\n",
        "plt.legend(['train', 'val'], loc='upper left')\n",
        "\n",
        "plt.subplot(1, 2, 2)\n",
        "plt.plot(history.history['loss'])\n",
        "plt.plot(history.history['val_loss'])\n",
        "plt.title('model loss')\n",
        "plt.ylabel('accuracy')\n",
        "plt.xlabel('epoch')\n",
        "plt.legend(['train', 'val'], loc='upper left')\n",
        "plt.show()"
      ],
      "execution_count": null,
      "outputs": []
    }
  ]
}