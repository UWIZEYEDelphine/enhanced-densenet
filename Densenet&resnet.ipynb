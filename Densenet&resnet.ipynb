{
  "nbformat": 4,
  "nbformat_minor": 0,
  "metadata": {
    "colab": {
      "name": "Densenet&resnet.ipynb",
      "provenance": [],
      "collapsed_sections": [],
      "authorship_tag": "ABX9TyOXiwBClE5iTUDa0/nU7Noi",
      "include_colab_link": true
    },
    "kernelspec": {
      "name": "python3",
      "display_name": "Python 3"
    },
    "accelerator": "GPU"
  },
  "cells": [
    {
      "cell_type": "markdown",
      "metadata": {
        "id": "view-in-github",
        "colab_type": "text"
      },
      "source": [
        "<a href=\"https://colab.research.google.com/github/UWIZEYEDelphine/enhanced-densenet/blob/main/Densenet%26resnet.ipynb\" target=\"_parent\"><img src=\"https://colab.research.google.com/assets/colab-badge.svg\" alt=\"Open In Colab\"/></a>"
      ]
    },
    {
      "cell_type": "code",
      "metadata": {
        "id": "dwx9IScdJ6K1"
      },
      "source": [
        "import keras\n",
        "from keras.applications.densenet import DenseNet201\n",
        "from keras.applications.resnet_v2 import ResNet152V2\n",
        "from keras.models import Sequential\n",
        "from keras.layers import Dense,Dropout, Flatten, Conv2D,MaxPool2D, BatchNormalization\n",
        "import numpy as np\n",
        "from keras.preprocessing.image import ImageDataGenerator\n",
        "from keras.regularizers import l2\n",
        "import os\n",
        "import matplotlib.pyplot as plt\n",
        "import random\n",
        "import cv2\n",
        "import h5py\n",
        "from keras.models import load_model"
      ],
      "execution_count": null,
      "outputs": []
    },
    {
      "cell_type": "code",
      "metadata": {
        "id": "RNF2RQBmKIiL"
      },
      "source": [
        "def create_model(base_model):\n",
        "  base_model.trainable=False\n",
        "  model=Sequential()\n",
        "  model.add(base_model)\n",
        "  model.add(Flatten())\n",
        "  model.add(Dropout(0.5))\n",
        "  model.add(Dense(512, activation='relu'))\n",
        "  model.add(Dense(256,activation='relu',kernel_regularizer=l2(0.01),bias_regularizer=l2(0.01)))\n",
        "  model.add(Dense(256, activation='softmax'))\n",
        "\n",
        "\n",
        "  opt = keras.optimizers.Adam(learning_rate=1e-4)\n",
        "  met=keras.metrics.TopKCategoricalAccuracy(k=1)\n",
        "  model.compile(optimizer=opt,loss='categorical_crossentropy',metrics=met)\n",
        "  return model\n",
        "\n",
        "def fit_model(model):\n",
        "    history = model.fit(training_data, epochs=20, verbose=1, validation_data=validation_data,steps_per_epoch=1190, validation_steps=800)\n",
        "    return history\n",
        "\n",
        "def plot_history(history):\n",
        "    acc = history.history['top_k_categorical_accuracy']\n",
        "    val_acc = history.history['val_top_k_categorical_accuracy']\n",
        "\n",
        "    loss=history.history['loss']\n",
        "    val_loss=history.history['val_loss']\n",
        "\n",
        "    epochs_range = range(20)\n",
        "\n",
        "    plt.figure(figsize=(12, 6))\n",
        "    plt.subplot(1, 2, 1)\n",
        "    plt.plot(epochs_range, acc, label='Training Accuracy')\n",
        "    plt.plot(epochs_range, val_acc, label='Validation Accuracy')\n",
        "    plt.legend(loc='lower right')\n",
        "    plt.title('Training and Validation Accuracy')\n",
        "\n",
        "    plt.subplot(1, 2, 2)\n",
        "    plt.plot(epochs_range, loss, label='Training Loss')\n",
        "    plt.plot(epochs_range, val_loss, label='Validation Loss')\n",
        "    plt.legend(loc='upper right')\n",
        "    plt.title('Training and Validation Loss')\n",
        "    plt.show()"
      ],
      "execution_count": null,
      "outputs": []
    },
    {
      "cell_type": "code",
      "metadata": {
        "id": "YvMXiiwaKRCd",
        "colab": {
          "base_uri": "https://localhost:8080/"
        },
        "outputId": "defa5c95-4a59-47e5-ae13-1bbcc04be4d1"
      },
      "source": [
        "dir1='/content/delphine/UECF_256_CROP'\n",
        "\n",
        "gen1=ImageDataGenerator(rescale= 1./255,width_shift_range=0.3,zoom_range=0.3,height_shift_range=0.2,rotation_range=30,validation_split=0.4)\n",
        "gen2=ImageDataGenerator(rescale=1./255,validation_split=0.4)\n",
        "\n",
        "training_data=gen1.flow_from_directory(dir1, batch_size=32, target_size=(300,300),shuffle=True,subset='training')\n",
        "validation_data=gen2.flow_from_directory(dir1, batch_size=32, target_size=(300,300), subset='validation')\n",
        "print(training_data.image_shape)"
      ],
      "execution_count": null,
      "outputs": [
        {
          "output_type": "stream",
          "text": [
            "Found 18939 images belonging to 256 classes.\n",
            "Found 12456 images belonging to 256 classes.\n",
            "(300, 300, 3)\n"
          ],
          "name": "stdout"
        }
      ]
    },
    {
      "cell_type": "code",
      "metadata": {
        "id": "HMz9NOi8UAuW",
        "colab": {
          "base_uri": "https://localhost:8080/"
        },
        "outputId": "c74966f4-809d-4783-d532-482c48a3b395"
      },
      "source": [
        "training_data.reset()\n",
        "x=np.concatenate([training_data.next()[0] for i in range(training_data.__len__())])\n",
        "y=np.concatenate([training_data.next()[1] for i in range(training_data.__len__())])\n",
        "print(x.shape)\n",
        "print(y.shape)"
      ],
      "execution_count": null,
      "outputs": [
        {
          "output_type": "stream",
          "text": [
            "(18939, 300, 300, 3)\n",
            "(18939, 256)\n"
          ],
          "name": "stdout"
        }
      ]
    },
    {
      "cell_type": "code",
      "metadata": {
        "id": "ydIsH4ouiC7B",
        "colab": {
          "base_uri": "https://localhost:8080/"
        },
        "outputId": "584c31c9-497c-4b23-c932-c3ae1098303d"
      },
      "source": [
        "validation_data.reset()\n",
        "x_t=np.concatenate([validation_data.next()[0] for i in range(validation_data.__len__())])\n",
        "y_t=np.concatenate([validation_data.next()[1] for i in range(validation_data.__len__())])\n",
        "print(x_t.shape)\n",
        "print(y_t.shape)"
      ],
      "execution_count": null,
      "outputs": [
        {
          "output_type": "stream",
          "text": [
            "(12456, 300, 300, 3)\n",
            "(12456, 256)\n"
          ],
          "name": "stdout"
        }
      ]
    },
    {
      "cell_type": "code",
      "metadata": {
        "id": "Sv1TNBPfKaBc",
        "colab": {
          "base_uri": "https://localhost:8080/",
          "height": 1000
        },
        "outputId": "f620b7f0-bb55-475e-816e-26f227f8255f"
      },
      "source": [
        "base_model1=ResNet152V2(weights='imagenet',include_top=False,input_shape=(300,300,3))\n",
        "base_model2=DenseNet201(weights='imagenet',include_top=False,input_shape=(300,300,3))\n",
        "\n",
        "model_1=create_model(base_model1)\n",
        "model_2=create_model(base_model2)\n",
        "history1 = fit_model(model_1)\n",
        "model_1.save('/content/delphine/models/model_1')\n",
        "\n",
        "history2 = fit_model(model_2)\n",
        "model_2.save('/content/delphine/models/model_2')"
      ],
      "execution_count": null,
      "outputs": [
        {
          "output_type": "stream",
          "text": [
            "Epoch 1/20\n",
            "1190/1190 [==============================] - 2024s 2s/step - loss: 5.7865 - top_k_categorical_accuracy: 0.2322 - val_loss: 3.8955 - val_top_k_categorical_accuracy: 0.3745\n",
            "Epoch 2/20\n",
            "1190/1190 [==============================] - 2050s 2s/step - loss: 3.3848 - top_k_categorical_accuracy: 0.4240 - val_loss: 3.1977 - val_top_k_categorical_accuracy: 0.4404\n",
            "Epoch 3/20\n",
            "1190/1190 [==============================] - 2061s 2s/step - loss: 2.7301 - top_k_categorical_accuracy: 0.4984 - val_loss: 2.8981 - val_top_k_categorical_accuracy: 0.4720\n",
            "Epoch 4/20\n",
            "1190/1190 [==============================] - 2067s 2s/step - loss: 2.3543 - top_k_categorical_accuracy: 0.5520 - val_loss: 2.7161 - val_top_k_categorical_accuracy: 0.5022\n",
            "Epoch 5/20\n",
            "1190/1190 [==============================] - 1858s 2s/step - loss: 2.1063 - top_k_categorical_accuracy: 0.5887 - val_loss: 2.6478 - val_top_k_categorical_accuracy: 0.5049\n",
            "Epoch 6/20\n",
            "1190/1190 [==============================] - 1401s 1s/step - loss: 1.9119 - top_k_categorical_accuracy: 0.6170 - val_loss: 2.6190 - val_top_k_categorical_accuracy: 0.5106\n",
            "Epoch 7/20\n",
            "1190/1190 [==============================] - 1278s 1s/step - loss: 1.7665 - top_k_categorical_accuracy: 0.6378 - val_loss: 2.5069 - val_top_k_categorical_accuracy: 0.5332\n",
            "Epoch 8/20\n",
            "1190/1190 [==============================] - 1275s 1s/step - loss: 1.6326 - top_k_categorical_accuracy: 0.6587 - val_loss: 2.4732 - val_top_k_categorical_accuracy: 0.5273\n",
            "Epoch 9/20\n",
            "1190/1190 [==============================] - 1276s 1s/step - loss: 1.5228 - top_k_categorical_accuracy: 0.6796 - val_loss: 2.4463 - val_top_k_categorical_accuracy: 0.5423\n",
            "Epoch 10/20\n",
            "1190/1190 [==============================] - 1277s 1s/step - loss: 1.4290 - top_k_categorical_accuracy: 0.6938 - val_loss: 2.3773 - val_top_k_categorical_accuracy: 0.5513\n",
            "Epoch 11/20\n",
            "1190/1190 [==============================] - 1279s 1s/step - loss: 1.3456 - top_k_categorical_accuracy: 0.7105 - val_loss: 2.3705 - val_top_k_categorical_accuracy: 0.5521\n",
            "Epoch 12/20\n",
            "1190/1190 [==============================] - 1280s 1s/step - loss: 1.2809 - top_k_categorical_accuracy: 0.7206 - val_loss: 2.3967 - val_top_k_categorical_accuracy: 0.5488\n",
            "Epoch 13/20\n",
            "1190/1190 [==============================] - 1276s 1s/step - loss: 1.2210 - top_k_categorical_accuracy: 0.7298 - val_loss: 2.3629 - val_top_k_categorical_accuracy: 0.5515\n",
            "Epoch 14/20\n",
            "1190/1190 [==============================] - 1276s 1s/step - loss: 1.1565 - top_k_categorical_accuracy: 0.7450 - val_loss: 2.3616 - val_top_k_categorical_accuracy: 0.5512\n",
            "Epoch 15/20\n",
            "1190/1190 [==============================] - 1275s 1s/step - loss: 1.1102 - top_k_categorical_accuracy: 0.7497 - val_loss: 2.3524 - val_top_k_categorical_accuracy: 0.5542\n",
            "Epoch 16/20\n",
            "1190/1190 [==============================] - 1275s 1s/step - loss: 1.0422 - top_k_categorical_accuracy: 0.7649 - val_loss: 2.3996 - val_top_k_categorical_accuracy: 0.5450\n",
            "Epoch 17/20\n",
            "1190/1190 [==============================] - 1274s 1s/step - loss: 1.0077 - top_k_categorical_accuracy: 0.7709 - val_loss: 2.4116 - val_top_k_categorical_accuracy: 0.5447\n",
            "Epoch 18/20\n",
            "1190/1190 [==============================] - 1275s 1s/step - loss: 0.9737 - top_k_categorical_accuracy: 0.7750 - val_loss: 2.3540 - val_top_k_categorical_accuracy: 0.5591\n",
            "Epoch 19/20\n",
            "1190/1190 [==============================] - 1276s 1s/step - loss: 0.9404 - top_k_categorical_accuracy: 0.7834 - val_loss: 2.3217 - val_top_k_categorical_accuracy: 0.5624\n",
            "Epoch 20/20\n",
            "1190/1190 [==============================] - 1293s 1s/step - loss: 0.9147 - top_k_categorical_accuracy: 0.7900 - val_loss: 2.3549 - val_top_k_categorical_accuracy: 0.5581\n",
            "INFO:tensorflow:Assets written to: /content/delphine/models/model_1/assets\n",
            "Epoch 1/20\n",
            "1190/1190 [==============================] - 1295s 1s/step - loss: 5.2560 - top_k_categorical_accuracy: 0.2353 - val_loss: 3.2872 - val_top_k_categorical_accuracy: 0.3912\n",
            "Epoch 2/20\n",
            "1190/1190 [==============================] - 1278s 1s/step - loss: 2.7368 - top_k_categorical_accuracy: 0.4652 - val_loss: 2.6955 - val_top_k_categorical_accuracy: 0.4838\n",
            "Epoch 3/20\n",
            "1190/1190 [==============================] - 1280s 1s/step - loss: 2.2172 - top_k_categorical_accuracy: 0.5531 - val_loss: 2.4698 - val_top_k_categorical_accuracy: 0.5149\n",
            "Epoch 4/20\n",
            "1190/1190 [==============================] - 1280s 1s/step - loss: 1.9315 - top_k_categorical_accuracy: 0.6021 - val_loss: 2.3693 - val_top_k_categorical_accuracy: 0.5328\n",
            "Epoch 5/20\n",
            "1190/1190 [==============================] - 1288s 1s/step - loss: 1.7373 - top_k_categorical_accuracy: 0.6366 - val_loss: 2.3754 - val_top_k_categorical_accuracy: 0.5397\n",
            "Epoch 6/20\n",
            "1190/1190 [==============================] - 1281s 1s/step - loss: 1.5918 - top_k_categorical_accuracy: 0.6642 - val_loss: 2.2631 - val_top_k_categorical_accuracy: 0.5528\n",
            "Epoch 7/20\n",
            "1190/1190 [==============================] - 1283s 1s/step - loss: 1.4753 - top_k_categorical_accuracy: 0.6901 - val_loss: 2.2566 - val_top_k_categorical_accuracy: 0.5575\n",
            "Epoch 8/20\n",
            "1190/1190 [==============================] - 1286s 1s/step - loss: 1.3786 - top_k_categorical_accuracy: 0.7036 - val_loss: 2.2471 - val_top_k_categorical_accuracy: 0.5662\n",
            "Epoch 9/20\n",
            "1190/1190 [==============================] - 1287s 1s/step - loss: 1.3021 - top_k_categorical_accuracy: 0.7198 - val_loss: 2.2895 - val_top_k_categorical_accuracy: 0.5604\n",
            "Epoch 10/20\n",
            "1190/1190 [==============================] - 1285s 1s/step - loss: 1.2273 - top_k_categorical_accuracy: 0.7356 - val_loss: 2.1618 - val_top_k_categorical_accuracy: 0.5817\n",
            "Epoch 11/20\n",
            "1190/1190 [==============================] - 1279s 1s/step - loss: 1.1665 - top_k_categorical_accuracy: 0.7440 - val_loss: 2.2230 - val_top_k_categorical_accuracy: 0.5719\n",
            "Epoch 12/20\n",
            "1190/1190 [==============================] - 1279s 1s/step - loss: 1.1121 - top_k_categorical_accuracy: 0.7567 - val_loss: 2.1723 - val_top_k_categorical_accuracy: 0.5758\n",
            "Epoch 13/20\n",
            "1190/1190 [==============================] - 1278s 1s/step - loss: 1.0650 - top_k_categorical_accuracy: 0.7682 - val_loss: 2.1823 - val_top_k_categorical_accuracy: 0.5789\n",
            "Epoch 14/20\n",
            "1190/1190 [==============================] - 1282s 1s/step - loss: 1.0285 - top_k_categorical_accuracy: 0.7703 - val_loss: 2.1984 - val_top_k_categorical_accuracy: 0.5778\n",
            "Epoch 15/20\n",
            "1190/1190 [==============================] - 1283s 1s/step - loss: 0.9888 - top_k_categorical_accuracy: 0.7819 - val_loss: 2.1183 - val_top_k_categorical_accuracy: 0.5872\n",
            "Epoch 16/20\n",
            "1190/1190 [==============================] - 1278s 1s/step - loss: 0.9389 - top_k_categorical_accuracy: 0.7908 - val_loss: 2.1725 - val_top_k_categorical_accuracy: 0.5843\n",
            "Epoch 17/20\n",
            "1190/1190 [==============================] - 1283s 1s/step - loss: 0.9174 - top_k_categorical_accuracy: 0.7936 - val_loss: 2.1893 - val_top_k_categorical_accuracy: 0.5823\n",
            "Epoch 18/20\n",
            "1190/1190 [==============================] - 1278s 1s/step - loss: 0.8894 - top_k_categorical_accuracy: 0.7970 - val_loss: 2.1354 - val_top_k_categorical_accuracy: 0.5901\n",
            "Epoch 19/20\n",
            "1190/1190 [==============================] - 1284s 1s/step - loss: 0.8575 - top_k_categorical_accuracy: 0.8087 - val_loss: 2.2200 - val_top_k_categorical_accuracy: 0.5742\n",
            "Epoch 20/20\n",
            "1190/1190 [==============================] - 1280s 1s/step - loss: 0.8401 - top_k_categorical_accuracy: 0.8085 - val_loss: 2.1716 - val_top_k_categorical_accuracy: 0.5807\n",
            "INFO:tensorflow:Assets written to: /content/delphine/models/model_2/assets\n"
          ],
          "name": "stdout"
        }
      ]
    },
    {
      "cell_type": "code",
      "metadata": {
        "id": "TB3un-XZKf38",
        "colab": {
          "base_uri": "https://localhost:8080/",
          "height": 763
        },
        "outputId": "aa141873-7b34-4074-80ce-3f6bc0cf811a"
      },
      "source": [
        "plot_history(history1)\n",
        "plot_history(history2)"
      ],
      "execution_count": null,
      "outputs": [
        {
          "output_type": "display_data",
          "data": {
            "text/plain": [
              "<Figure size 864x432 with 2 Axes>"
            ],
            "image/png": "[encoded data removed]"
          },
          "metadata": {
            "tags": [],
            "needs_background": "light"
          }
        },
        {
          "output_type": "display_data",
          "data": {
            "text/plain": [
              "<Figure size 864x432 with 2 Axes>"
            ],
            "image/png": "[encoded data removed]"
          },
          "metadata": {
            "tags": [],
            "needs_background": "light"
          }
        }
      ]
    },
    {
      "cell_type": "code",
      "metadata": {
        "id": "begjI3SWKoDD"
      },
      "source": [
        "def load_all_models():\n",
        "    all_models = []\n",
        "    model_names = ['model_1', 'model_2']\n",
        "    for model_name in model_names:\n",
        "        filename = os.path.join('/content/delphine/models', model_name)\n",
        "        model = keras.models.load_model(filename)\n",
        "        all_models.append(model)\n",
        "        print('loaded:', filename)\n",
        "    return all_models\n"
      ],
      "execution_count": null,
      "outputs": []
    },
    {
      "cell_type": "code",
      "metadata": {
        "id": "QmuiQ9i4KuoE"
      },
      "source": [
        "def ensemble_model(models):\n",
        "    for i, model in enumerate(models):\n",
        "        for layer in model.layers:\n",
        "            layer.trainable = False\n",
        "    ensemble_visible = [model.input for model in models]\n",
        "    ensemble_outputs = [model.output for model in models]\n",
        "    merge =keras.layers.concatenate(ensemble_outputs)\n",
        "    merge =keras.layers.Dense(512, activation='relu')(merge)\n",
        "    output =keras.layers.Dense(256, activation='softmax')(merge)\n",
        "    model =keras.models.Model(inputs=ensemble_visible, outputs=output)\n",
        "    opt = keras.optimizers.Adam(learning_rate=1e-4)\n",
        "    metr=keras.metrics.TopKCategoricalAccuracy(k=1)\n",
        "    model.compile(optimizer=opt,loss='categorical_crossentropy',metrics=metr)\n",
        "    return model"
      ],
      "execution_count": null,
      "outputs": []
    },
    {
      "cell_type": "code",
      "metadata": {
        "id": "h4hq7DSHK1-1",
        "colab": {
          "base_uri": "https://localhost:8080/"
        },
        "outputId": "5b14d40d-4ec3-4c24-f018-50a74e36e931"
      },
      "source": [
        "models = load_all_models()\n"
      ],
      "execution_count": null,
      "outputs": [
        {
          "output_type": "stream",
          "text": [
            "loaded: /content/delphine/models/model_1\n",
            "loaded: /content/delphine/models/model_2\n"
          ],
          "name": "stdout"
        }
      ]
    },
    {
      "cell_type": "code",
      "metadata": {
        "id": "KEnhP6yuskNO"
      },
      "source": [
        "model = ensemble_model(models)"
      ],
      "execution_count": null,
      "outputs": []
    },
    {
      "cell_type": "code",
      "metadata": {
        "id": "FCv9AiT0sowZ",
        "colab": {
          "base_uri": "https://localhost:8080/"
        },
        "outputId": "3b996425-ada6-4834-a889-e8647ffa773f"
      },
      "source": [
        "print(model.input)\n",
        "print(model.output)\n",
        "print(model.summary())"
      ],
      "execution_count": null,
      "outputs": [
        {
          "output_type": "stream",
          "text": [
            "[<tf.Tensor 'input_1:0' shape=(None, 300, 300, 3) dtype=float32>, <tf.Tensor 'input_2:0' shape=(None, 300, 300, 3) dtype=float32>]\n",
            "Tensor(\"dense_1/Identity:0\", shape=(None, 256), dtype=float32)\n",
            "Model: \"model\"\n",
            "__________________________________________________________________________________________________\n",
            "Layer (type)                    Output Shape         Param #     Connected to                     \n",
            "==================================================================================================\n",
            "input_1 (InputLayer)            [(None, 300, 300, 3) 0                                            \n",
            "__________________________________________________________________________________________________\n",
            "input_2 (InputLayer)            [(None, 300, 300, 3) 0                                            \n",
            "__________________________________________________________________________________________________\n",
            "resnet152v2 (Model)             (None, 10, 10, 2048) 58331648    input_1[0][0]                    \n",
            "__________________________________________________________________________________________________\n",
            "densenet201 (Model)             (None, 9, 9, 1920)   18321984    input_2[0][0]                    \n",
            "__________________________________________________________________________________________________\n",
            "flatten_2 (Flatten)             (None, 204800)       0           resnet152v2[1][0]                \n",
            "__________________________________________________________________________________________________\n",
            "flatten_3 (Flatten)             (None, 155520)       0           densenet201[1][0]                \n",
            "__________________________________________________________________________________________________\n",
            "dropout_2 (Dropout)             (None, 204800)       0           flatten_2[0][0]                  \n",
            "__________________________________________________________________________________________________\n",
            "dropout_3 (Dropout)             (None, 155520)       0           flatten_3[0][0]                  \n",
            "__________________________________________________________________________________________________\n",
            "dense_6 (Dense)                 (None, 512)          104858112   dropout_2[0][0]                  \n",
            "__________________________________________________________________________________________________\n",
            "dense_9 (Dense)                 (None, 512)          79626752    dropout_3[0][0]                  \n",
            "__________________________________________________________________________________________________\n",
            "dense_7 (Dense)                 (None, 256)          131328      dense_6[0][0]                    \n",
            "__________________________________________________________________________________________________\n",
            "dense_10 (Dense)                (None, 256)          131328      dense_9[0][0]                    \n",
            "__________________________________________________________________________________________________\n",
            "dense_8 (Dense)                 (None, 256)          65792       dense_7[0][0]                    \n",
            "__________________________________________________________________________________________________\n",
            "dense_11 (Dense)                (None, 256)          65792       dense_10[0][0]                   \n",
            "__________________________________________________________________________________________________\n",
            "concatenate (Concatenate)       (None, 512)          0           dense_8[0][0]                    \n",
            "                                                                 dense_11[0][0]                   \n",
            "__________________________________________________________________________________________________\n",
            "dense (Dense)                   (None, 512)          262656      concatenate[0][0]                \n",
            "__________________________________________________________________________________________________\n",
            "dense_1 (Dense)                 (None, 256)          131328      dense[0][0]                      \n",
            "==================================================================================================\n",
            "Total params: 261,926,720\n",
            "Trainable params: 393,984\n",
            "Non-trainable params: 261,532,736\n",
            "__________________________________________________________________________________________________\n",
            "None\n"
          ],
          "name": "stdout"
        }
      ]
    },
    {
      "cell_type": "code",
      "metadata": {
        "id": "Ls1SRxmbK9JM",
        "colab": {
          "base_uri": "https://localhost:8080/"
        },
        "outputId": "c2d8f59a-0c76-43c4-9e35-9fc01ca415e0"
      },
      "source": [
        "X = [x for _ in range(len(model.input))]\n",
        "X_1 = [x_t for _ in range(len(model.input))]\n",
        "history = model.fit(X,y, epochs=20, verbose=1, validation_data=(X_1,y_t),steps_per_epoch=1190, validation_steps=800)"
      ],
      "execution_count": null,
      "outputs": [
        {
          "output_type": "stream",
          "text": [
            "Epoch 1/20\n",
            "1190/1190 [==============================] - ETA: 0s - loss: 5.9179 - top_k_categorical_accuracy: 0.0178WARNING:tensorflow:Your input ran out of data; interrupting training. Make sure that your dataset or generator can generate at least `steps_per_epoch * epochs` batches (in this case, 800 batches). You may need to use the repeat() function when building your dataset.\n",
            "1190/1190 [==============================] - 655s 551ms/step - loss: 5.9179 - top_k_categorical_accuracy: 0.0178 - val_loss: 5.9017 - val_top_k_categorical_accuracy: 0.0227\n",
            "Epoch 2/20\n",
            "1189/1190 [============================>.] - ETA: 0s - loss: 5.8732 - top_k_categorical_accuracy: 0.0235"
          ],
          "name": "stdout"
        }
      ]
    },
    {
      "cell_type": "code",
      "metadata": {
        "id": "SRGZ_zJ4LGb3"
      },
      "source": [
        "plot_history(history)"
      ],
      "execution_count": null,
      "outputs": []
    },
    {
      "cell_type": "code",
      "metadata": {
        "id": "tvdPL4Jr4tLt"
      },
      "source": [
        "print('ResNet152V2 acc:', history1.history['val_accuracy'][-1])\n",
        "print('Densenet acc:', history2.history['val_accuracy'][-1])\n",
        "print('Ensemble acc:', history.history['val_accuracy'][-1])"
      ],
      "execution_count": null,
      "outputs": []
    },
    {
      "cell_type": "markdown",
      "metadata": {
        "id": "goLhiXKTKjvZ"
      },
      "source": [
        "resnet for top 5 accuracy"
      ]
    },
    {
      "cell_type": "code",
      "metadata": {
        "id": "HYco2k-eKolh"
      },
      "source": [
        "import keras\n",
        "from keras.applications.resnet_v2 import ResNet152V2\n",
        "from keras.models import Sequential\n",
        "from keras.layers import Dense,Dropout, Flatten, Conv2D,MaxPool2D, BatchNormalization\n",
        "import numpy as np\n",
        "from keras.preprocessing.image import ImageDataGenerator\n",
        "from keras.regularizers import l2\n",
        "import matplotlib.pyplot as plt\n",
        "import random"
      ],
      "execution_count": null,
      "outputs": []
    },
    {
      "cell_type": "code",
      "metadata": {
        "id": "X8cVc1RSKuRO"
      },
      "source": [
        "resnet= ResNet152V2(include_top=False,weights='imagenet',input_shape=(300,300,3))\n",
        "for layer in resnet.layers:\n",
        "  layer.trainable=False\n",
        "model=Sequential()\n",
        "model.add(resnet)\n",
        "model.add(Flatten())\n",
        "model.add(Dropout(0.5))\n",
        "model.add(Dense(512, activation='relu'))\n",
        "model.add(Dense(256,activation='relu',kernel_regularizer=l2(0.01),bias_regularizer=l2(0.01)))\n",
        "model.add(Dense(256, activation='softmax'))\n",
        "\n",
        "\n",
        "opt = keras.optimizers.Adam(learning_rate=1e-4)\n",
        "met=keras.metrics.TopKCategoricalAccuracy(k=5)\n",
        "model.compile(optimizer=opt,loss='categorical_crossentropy',metrics=met)"
      ],
      "execution_count": null,
      "outputs": []
    },
    {
      "cell_type": "code",
      "metadata": {
        "id": "Kf9R0O5dMTge",
        "colab": {
          "base_uri": "https://localhost:8080/",
          "height": 67
        },
        "outputId": "89373e79-75ee-41bf-afd0-e65a3d1cdded"
      },
      "source": [
        "dir1='/content/delphine/UECF_256_CROP'\n",
        "\n",
        "gen1=ImageDataGenerator(rescale= 1./255,width_shift_range=0.3,zoom_range=0.3,height_shift_range=0.2,rotation_range=30,validation_split=0.4)\n",
        "gen2=ImageDataGenerator(rescale=1./255,validation_split=0.4)\n",
        "\n",
        "training_data=gen1.flow_from_directory(dir1, batch_size=32, target_size=(300,300),shuffle=True,subset='training')\n",
        "validation_data=gen2.flow_from_directory(dir1, batch_size=32, target_size=(300,300), subset='validation')\n",
        "print(training_data.image_shape)"
      ],
      "execution_count": null,
      "outputs": [
        {
          "output_type": "stream",
          "text": [
            "Found 18939 images belonging to 256 classes.\n",
            "Found 12456 images belonging to 256 classes.\n",
            "(300, 300, 3)\n"
          ],
          "name": "stdout"
        }
      ]
    },
    {
      "cell_type": "code",
      "metadata": {
        "id": "eiEGLB3tMnSr",
        "colab": {
          "base_uri": "https://localhost:8080/",
          "height": 1000
        },
        "outputId": "ba42455b-de24-495f-b00e-9e620541f551"
      },
      "source": [
        "history=model.fit(training_data, epochs=40, verbose=1, validation_data=validation_data,steps_per_epoch=1190, validation_steps=800)"
      ],
      "execution_count": null,
      "outputs": [
        {
          "output_type": "stream",
          "text": [
            "Epoch 1/40\n",
            "1190/1190 [==============================] - 1266s 1s/step - loss: 5.7942 - top_k_categorical_accuracy: 0.4324 - val_loss: 3.8729 - val_top_k_categorical_accuracy: 0.6470\n",
            "Epoch 2/40\n",
            "1190/1190 [==============================] - 1262s 1s/step - loss: 3.3537 - top_k_categorical_accuracy: 0.7000 - val_loss: 3.1494 - val_top_k_categorical_accuracy: 0.7228\n",
            "Epoch 3/40\n",
            "1190/1190 [==============================] - 1263s 1s/step - loss: 2.6886 - top_k_categorical_accuracy: 0.7794 - val_loss: 2.8810 - val_top_k_categorical_accuracy: 0.7532\n",
            "Epoch 4/40\n",
            "1190/1190 [==============================] - 1262s 1s/step - loss: 2.3496 - top_k_categorical_accuracy: 0.8170 - val_loss: 2.7418 - val_top_k_categorical_accuracy: 0.7704\n",
            "Epoch 5/40\n",
            "1190/1190 [==============================] - 1263s 1s/step - loss: 2.0900 - top_k_categorical_accuracy: 0.8469 - val_loss: 2.6636 - val_top_k_categorical_accuracy: 0.7754\n",
            "Epoch 6/40\n",
            "1190/1190 [==============================] - 1263s 1s/step - loss: 1.9033 - top_k_categorical_accuracy: 0.8653 - val_loss: 2.6281 - val_top_k_categorical_accuracy: 0.7837\n",
            "Epoch 7/40\n",
            "1190/1190 [==============================] - 1262s 1s/step - loss: 1.7683 - top_k_categorical_accuracy: 0.8810 - val_loss: 2.5426 - val_top_k_categorical_accuracy: 0.7954\n",
            "Epoch 8/40\n",
            "1190/1190 [==============================] - 1264s 1s/step - loss: 1.6312 - top_k_categorical_accuracy: 0.8954 - val_loss: 2.4565 - val_top_k_categorical_accuracy: 0.8048\n",
            "Epoch 9/40\n",
            "1190/1190 [==============================] - 1263s 1s/step - loss: 1.5429 - top_k_categorical_accuracy: 0.9024 - val_loss: 2.4729 - val_top_k_categorical_accuracy: 0.7998\n",
            "Epoch 10/40\n",
            "1190/1190 [==============================] - 1264s 1s/step - loss: 1.4240 - top_k_categorical_accuracy: 0.9151 - val_loss: 2.4087 - val_top_k_categorical_accuracy: 0.8058\n",
            "Epoch 11/40\n",
            "1190/1190 [==============================] - 1264s 1s/step - loss: 1.3478 - top_k_categorical_accuracy: 0.9210 - val_loss: 2.3515 - val_top_k_categorical_accuracy: 0.8091\n",
            "Epoch 12/40\n",
            "1190/1190 [==============================] - 1266s 1s/step - loss: 1.2676 - top_k_categorical_accuracy: 0.9292 - val_loss: 2.3716 - val_top_k_categorical_accuracy: 0.8115\n",
            "Epoch 13/40\n",
            "1190/1190 [==============================] - 1265s 1s/step - loss: 1.2210 - top_k_categorical_accuracy: 0.9320 - val_loss: 2.4075 - val_top_k_categorical_accuracy: 0.8073\n",
            "Epoch 14/40\n",
            "1190/1190 [==============================] - 1264s 1s/step - loss: 1.1656 - top_k_categorical_accuracy: 0.9378 - val_loss: 2.3819 - val_top_k_categorical_accuracy: 0.8105\n",
            "Epoch 15/40\n",
            "1190/1190 [==============================] - 1264s 1s/step - loss: 1.1043 - top_k_categorical_accuracy: 0.9431 - val_loss: 2.3869 - val_top_k_categorical_accuracy: 0.8112\n",
            "Epoch 16/40\n",
            "1190/1190 [==============================] - 1262s 1s/step - loss: 1.0570 - top_k_categorical_accuracy: 0.9492 - val_loss: 2.4212 - val_top_k_categorical_accuracy: 0.8104\n",
            "Epoch 17/40\n",
            "1190/1190 [==============================] - 1264s 1s/step - loss: 1.0201 - top_k_categorical_accuracy: 0.9486 - val_loss: 2.3629 - val_top_k_categorical_accuracy: 0.8146\n",
            "Epoch 18/40\n",
            "1190/1190 [==============================] - 1265s 1s/step - loss: 0.9773 - top_k_categorical_accuracy: 0.9541 - val_loss: 2.3709 - val_top_k_categorical_accuracy: 0.8158\n",
            "Epoch 19/40\n",
            "1190/1190 [==============================] - 1264s 1s/step - loss: 0.9534 - top_k_categorical_accuracy: 0.9547 - val_loss: 2.3658 - val_top_k_categorical_accuracy: 0.8143\n",
            "Epoch 20/40\n",
            "1190/1190 [==============================] - 1266s 1s/step - loss: 0.9057 - top_k_categorical_accuracy: 0.9598 - val_loss: 2.3436 - val_top_k_categorical_accuracy: 0.8195\n",
            "Epoch 21/40\n",
            "1190/1190 [==============================] - 1265s 1s/step - loss: 0.8809 - top_k_categorical_accuracy: 0.9611 - val_loss: 2.3707 - val_top_k_categorical_accuracy: 0.8150\n",
            "Epoch 22/40\n",
            "1190/1190 [==============================] - 1265s 1s/step - loss: 0.8565 - top_k_categorical_accuracy: 0.9628 - val_loss: 2.3640 - val_top_k_categorical_accuracy: 0.8176\n",
            "Epoch 23/40\n",
            "1190/1190 [==============================] - 1262s 1s/step - loss: 0.8197 - top_k_categorical_accuracy: 0.9642 - val_loss: 2.3422 - val_top_k_categorical_accuracy: 0.8218\n",
            "Epoch 24/40\n",
            "1190/1190 [==============================] - 1263s 1s/step - loss: 0.8099 - top_k_categorical_accuracy: 0.9664 - val_loss: 2.3701 - val_top_k_categorical_accuracy: 0.8160\n",
            "Epoch 25/40\n",
            "1190/1190 [==============================] - 1262s 1s/step - loss: 0.7841 - top_k_categorical_accuracy: 0.9673 - val_loss: 2.3981 - val_top_k_categorical_accuracy: 0.8155\n",
            "Epoch 26/40\n",
            "1190/1190 [==============================] - 1264s 1s/step - loss: 0.7763 - top_k_categorical_accuracy: 0.9671 - val_loss: 2.4114 - val_top_k_categorical_accuracy: 0.8159\n",
            "Epoch 27/40\n",
            "1190/1190 [==============================] - 1265s 1s/step - loss: 0.7638 - top_k_categorical_accuracy: 0.9690 - val_loss: 2.3675 - val_top_k_categorical_accuracy: 0.8192\n",
            "Epoch 28/40\n",
            "1190/1190 [==============================] - 1264s 1s/step - loss: 0.7331 - top_k_categorical_accuracy: 0.9712 - val_loss: 2.3618 - val_top_k_categorical_accuracy: 0.8226\n",
            "Epoch 29/40\n",
            "1190/1190 [==============================] - 1263s 1s/step - loss: 0.7057 - top_k_categorical_accuracy: 0.9742 - val_loss: 2.4280 - val_top_k_categorical_accuracy: 0.8169\n",
            "Epoch 30/40\n",
            "1190/1190 [==============================] - 1264s 1s/step - loss: 0.7001 - top_k_categorical_accuracy: 0.9743 - val_loss: 2.4148 - val_top_k_categorical_accuracy: 0.8143\n",
            "Epoch 31/40\n",
            "1190/1190 [==============================] - 1262s 1s/step - loss: 0.6905 - top_k_categorical_accuracy: 0.9749 - val_loss: 2.3403 - val_top_k_categorical_accuracy: 0.8186\n",
            "Epoch 32/40\n",
            "1190/1190 [==============================] - 1261s 1s/step - loss: 0.6689 - top_k_categorical_accuracy: 0.9756 - val_loss: 2.3930 - val_top_k_categorical_accuracy: 0.8185\n",
            "Epoch 33/40\n",
            "1190/1190 [==============================] - 1262s 1s/step - loss: 0.6550 - top_k_categorical_accuracy: 0.9772 - val_loss: 2.4718 - val_top_k_categorical_accuracy: 0.8101\n",
            "Epoch 34/40\n",
            "1190/1190 [==============================] - 1263s 1s/step - loss: 0.6570 - top_k_categorical_accuracy: 0.9761 - val_loss: 2.4274 - val_top_k_categorical_accuracy: 0.8129\n",
            "Epoch 35/40\n",
            "1190/1190 [==============================] - 1263s 1s/step - loss: 0.6284 - top_k_categorical_accuracy: 0.9786 - val_loss: 2.4654 - val_top_k_categorical_accuracy: 0.8145\n",
            "Epoch 36/40\n",
            "1190/1190 [==============================] - 1262s 1s/step - loss: 0.6220 - top_k_categorical_accuracy: 0.9787 - val_loss: 2.4446 - val_top_k_categorical_accuracy: 0.8181\n",
            "Epoch 37/40\n",
            "1190/1190 [==============================] - 1263s 1s/step - loss: 0.6180 - top_k_categorical_accuracy: 0.9790 - val_loss: 2.4624 - val_top_k_categorical_accuracy: 0.8141\n",
            "Epoch 38/40\n",
            "1190/1190 [==============================] - 1262s 1s/step - loss: 0.6104 - top_k_categorical_accuracy: 0.9790 - val_loss: 2.4204 - val_top_k_categorical_accuracy: 0.8162\n",
            "Epoch 39/40\n",
            "1190/1190 [==============================] - 1263s 1s/step - loss: 0.5901 - top_k_categorical_accuracy: 0.9808 - val_loss: 2.4623 - val_top_k_categorical_accuracy: 0.8179\n",
            "Epoch 40/40\n",
            "1190/1190 [==============================] - 1262s 1s/step - loss: 0.5833 - top_k_categorical_accuracy: 0.9817 - val_loss: 2.5003 - val_top_k_categorical_accuracy: 0.8172\n"
          ],
          "name": "stdout"
        }
      ]
    },
    {
      "cell_type": "code",
      "metadata": {
        "id": "lzBt0wI4SosV",
        "colab": {
          "base_uri": "https://localhost:8080/",
          "height": 404
        },
        "outputId": "00e14afe-18fd-4fa6-b349-37f62466b59b"
      },
      "source": [
        "plt.figure(figsize=(12, 6))\n",
        "plt.subplot(1, 2, 1)\n",
        "plt.plot(history.history['top_k_categorical_accuracy'])\n",
        "plt.plot(history.history['val_top_k_categorical_accuracy'])\n",
        "plt.title('model accuracy')\n",
        "plt.ylabel('accuracy')\n",
        "plt.xlabel('epoch')\n",
        "plt.legend(['train', 'val'], loc='upper left')\n",
        "\n",
        "plt.subplot(1, 2, 2)\n",
        "plt.plot(history.history['loss'])\n",
        "plt.plot(history.history['val_loss'])\n",
        "plt.title('model loss')\n",
        "plt.ylabel('accuracy')\n",
        "plt.xlabel('epoch')\n",
        "plt.legend(['train', 'val'], loc='upper left')\n",
        "plt.show()"
      ],
      "execution_count": null,
      "outputs": [
        {
          "output_type": "display_data",
          "data": {
            "text/plain": [
              "<Figure size 864x432 with 2 Axes>"
            ],
            "image/png": "[encoded data removed]"
          },
          "metadata": {
            "tags": [],
            "needs_background": "light"
          }
        }
      ]
    },
    {
      "cell_type": "markdown",
      "metadata": {
        "id": "--o_A7mPSMSA"
      },
      "source": [
        "resnet top1 for 40 epochs"
      ]
    },
    {
      "cell_type": "code",
      "metadata": {
        "id": "TNZ6nOE2SLSw"
      },
      "source": [
        "import keras\n",
        "from keras.applications.resnet_v2 import ResNet152V2\n",
        "from keras.models import Sequential\n",
        "from keras.layers import Dense,Dropout, Flatten, Conv2D,MaxPool2D, BatchNormalization\n",
        "import numpy as np\n",
        "from keras.preprocessing.image import ImageDataGenerator\n",
        "from keras.regularizers import l2\n",
        "import matplotlib.pyplot as plt\n",
        "import random"
      ],
      "execution_count": null,
      "outputs": []
    },
    {
      "cell_type": "code",
      "metadata": {
        "id": "lcPUOuL2SYnK"
      },
      "source": [
        "resnet= ResNet152V2(include_top=False,weights='imagenet',input_shape=(300,300,3))\n",
        "for layer in resnet.layers:\n",
        "  layer.trainable=False\n",
        "model=Sequential()\n",
        "model.add(resnet)\n",
        "model.add(Flatten())\n",
        "model.add(Dropout(0.5))\n",
        "model.add(Dense(512, activation='relu'))\n",
        "model.add(Dense(256,activation='relu',kernel_regularizer=l2(0.01),bias_regularizer=l2(0.01)))\n",
        "model.add(Dense(256, activation='softmax'))"
      ],
      "execution_count": null,
      "outputs": []
    },
    {
      "cell_type": "code",
      "metadata": {
        "id": "08JucbSYT3FG"
      },
      "source": [
        "opt = keras.optimizers.Adam(learning_rate=1e-4)\n",
        "met=keras.metrics.TopKCategoricalAccuracy(k=1)\n",
        "model.compile(optimizer=opt,loss='categorical_crossentropy',metrics=met)"
      ],
      "execution_count": null,
      "outputs": []
    },
    {
      "cell_type": "code",
      "metadata": {
        "id": "cmHZKg-8UD4u",
        "colab": {
          "base_uri": "https://localhost:8080/",
          "height": 68
        },
        "outputId": "ce6a1434-ced5-4516-c1ca-bc73bfa5e4b1"
      },
      "source": [
        "dir1='/content/delphine/UECF_256_CROP'\n",
        "\n",
        "gen1=ImageDataGenerator(rescale= 1./255,width_shift_range=0.3,zoom_range=0.3,height_shift_range=0.2,rotation_range=30,validation_split=0.4)\n",
        "gen2=ImageDataGenerator(rescale=1./255,validation_split=0.4)\n",
        "\n",
        "training_data=gen1.flow_from_directory(dir1, batch_size=32, target_size=(300,300),shuffle=True,subset='training')\n",
        "validation_data=gen2.flow_from_directory(dir1, batch_size=32, target_size=(300,300), subset='validation')\n",
        "print(training_data.image_shape)"
      ],
      "execution_count": null,
      "outputs": [
        {
          "output_type": "stream",
          "text": [
            "Found 18939 images belonging to 256 classes.\n",
            "Found 12456 images belonging to 256 classes.\n",
            "(300, 300, 3)\n"
          ],
          "name": "stdout"
        }
      ]
    },
    {
      "cell_type": "code",
      "metadata": {
        "id": "gelcJNLrUJyM",
        "colab": {
          "base_uri": "https://localhost:8080/",
          "height": 1000
        },
        "outputId": "503b075d-fa42-49fc-f091-f97aea98f90a"
      },
      "source": [
        "history=model.fit(training_data, epochs=40, verbose=1, validation_data=validation_data,steps_per_epoch=1190, validation_steps=800)"
      ],
      "execution_count": null,
      "outputs": [
        {
          "output_type": "stream",
          "text": [
            "Epoch 1/40\n",
            "1190/1190 [==============================] - 1264s 1s/step - loss: 5.8145 - top_k_categorical_accuracy: 0.2343 - val_loss: 3.9601 - val_top_k_categorical_accuracy: 0.3734\n",
            "Epoch 2/40\n",
            "1190/1190 [==============================] - 1261s 1s/step - loss: 3.3794 - top_k_categorical_accuracy: 0.4248 - val_loss: 3.2339 - val_top_k_categorical_accuracy: 0.4396\n",
            "Epoch 3/40\n",
            "1190/1190 [==============================] - 1261s 1s/step - loss: 2.7061 - top_k_categorical_accuracy: 0.5097 - val_loss: 2.9399 - val_top_k_categorical_accuracy: 0.4730\n",
            "Epoch 4/40\n",
            "1190/1190 [==============================] - 1261s 1s/step - loss: 2.3438 - top_k_categorical_accuracy: 0.5567 - val_loss: 2.7573 - val_top_k_categorical_accuracy: 0.4966\n",
            "Epoch 5/40\n",
            "1190/1190 [==============================] - 1262s 1s/step - loss: 2.1096 - top_k_categorical_accuracy: 0.5890 - val_loss: 2.6493 - val_top_k_categorical_accuracy: 0.5045\n",
            "Epoch 6/40\n",
            "1190/1190 [==============================] - 1261s 1s/step - loss: 1.9143 - top_k_categorical_accuracy: 0.6175 - val_loss: 2.5902 - val_top_k_categorical_accuracy: 0.5171\n",
            "Epoch 7/40\n",
            "1190/1190 [==============================] - 1260s 1s/step - loss: 1.7450 - top_k_categorical_accuracy: 0.6438 - val_loss: 2.5058 - val_top_k_categorical_accuracy: 0.5328\n",
            "Epoch 8/40\n",
            "1190/1190 [==============================] - 1261s 1s/step - loss: 1.6224 - top_k_categorical_accuracy: 0.6650 - val_loss: 2.4777 - val_top_k_categorical_accuracy: 0.5308\n",
            "Epoch 9/40\n",
            "1190/1190 [==============================] - 1260s 1s/step - loss: 1.5027 - top_k_categorical_accuracy: 0.6856 - val_loss: 2.4158 - val_top_k_categorical_accuracy: 0.5319\n",
            "Epoch 10/40\n",
            "1190/1190 [==============================] - 1263s 1s/step - loss: 1.4284 - top_k_categorical_accuracy: 0.6962 - val_loss: 2.4536 - val_top_k_categorical_accuracy: 0.5405\n",
            "Epoch 11/40\n",
            "1190/1190 [==============================] - 1261s 1s/step - loss: 1.3291 - top_k_categorical_accuracy: 0.7120 - val_loss: 2.4215 - val_top_k_categorical_accuracy: 0.5420\n",
            "Epoch 12/40\n",
            "1190/1190 [==============================] - 1261s 1s/step - loss: 1.2702 - top_k_categorical_accuracy: 0.7236 - val_loss: 2.4556 - val_top_k_categorical_accuracy: 0.5440\n",
            "Epoch 13/40\n",
            "1190/1190 [==============================] - 1261s 1s/step - loss: 1.2088 - top_k_categorical_accuracy: 0.7345 - val_loss: 2.3551 - val_top_k_categorical_accuracy: 0.5524\n",
            "Epoch 14/40\n",
            "1190/1190 [==============================] - 1262s 1s/step - loss: 1.1517 - top_k_categorical_accuracy: 0.7455 - val_loss: 2.3944 - val_top_k_categorical_accuracy: 0.5488\n",
            "Epoch 15/40\n",
            "1190/1190 [==============================] - 1262s 1s/step - loss: 1.0899 - top_k_categorical_accuracy: 0.7568 - val_loss: 2.3797 - val_top_k_categorical_accuracy: 0.5555\n",
            "Epoch 16/40\n",
            "1190/1190 [==============================] - 1263s 1s/step - loss: 1.0385 - top_k_categorical_accuracy: 0.7653 - val_loss: 2.4130 - val_top_k_categorical_accuracy: 0.5503\n",
            "Epoch 17/40\n",
            "1190/1190 [==============================] - 1264s 1s/step - loss: 0.9928 - top_k_categorical_accuracy: 0.7749 - val_loss: 2.3593 - val_top_k_categorical_accuracy: 0.5561\n",
            "Epoch 18/40\n",
            "1190/1190 [==============================] - 1264s 1s/step - loss: 0.9659 - top_k_categorical_accuracy: 0.7815 - val_loss: 2.3783 - val_top_k_categorical_accuracy: 0.5546\n",
            "Epoch 19/40\n",
            "1190/1190 [==============================] - 1266s 1s/step - loss: 0.9221 - top_k_categorical_accuracy: 0.7897 - val_loss: 2.3672 - val_top_k_categorical_accuracy: 0.5600\n",
            "Epoch 20/40\n",
            "1190/1190 [==============================] - 1262s 1s/step - loss: 0.8938 - top_k_categorical_accuracy: 0.7931 - val_loss: 2.3664 - val_top_k_categorical_accuracy: 0.5521\n",
            "Epoch 21/40\n",
            "1190/1190 [==============================] - 1262s 1s/step - loss: 0.8672 - top_k_categorical_accuracy: 0.8016 - val_loss: 2.3732 - val_top_k_categorical_accuracy: 0.5604\n",
            "Epoch 22/40\n",
            "1190/1190 [==============================] - 1262s 1s/step - loss: 0.8409 - top_k_categorical_accuracy: 0.8044 - val_loss: 2.3748 - val_top_k_categorical_accuracy: 0.5558\n",
            "Epoch 23/40\n",
            "1190/1190 [==============================] - 1261s 1s/step - loss: 0.8112 - top_k_categorical_accuracy: 0.8084 - val_loss: 2.3875 - val_top_k_categorical_accuracy: 0.5602\n",
            "Epoch 24/40\n",
            "1190/1190 [==============================] - 1262s 1s/step - loss: 0.7980 - top_k_categorical_accuracy: 0.8138 - val_loss: 2.3887 - val_top_k_categorical_accuracy: 0.5632\n",
            "Epoch 25/40\n",
            "1190/1190 [==============================] - 1261s 1s/step - loss: 0.7753 - top_k_categorical_accuracy: 0.8174 - val_loss: 2.3807 - val_top_k_categorical_accuracy: 0.5594\n",
            "Epoch 26/40\n",
            "1190/1190 [==============================] - 1263s 1s/step - loss: 0.7529 - top_k_categorical_accuracy: 0.8242 - val_loss: 2.4555 - val_top_k_categorical_accuracy: 0.5560\n",
            "Epoch 27/40\n",
            "1190/1190 [==============================] - 1262s 1s/step - loss: 0.7294 - top_k_categorical_accuracy: 0.8299 - val_loss: 2.4484 - val_top_k_categorical_accuracy: 0.5547\n",
            "Epoch 28/40\n",
            "1190/1190 [==============================] - 1262s 1s/step - loss: 0.7066 - top_k_categorical_accuracy: 0.8349 - val_loss: 2.4374 - val_top_k_categorical_accuracy: 0.5649\n",
            "Epoch 29/40\n",
            "1190/1190 [==============================] - 1263s 1s/step - loss: 0.7099 - top_k_categorical_accuracy: 0.8326 - val_loss: 2.4710 - val_top_k_categorical_accuracy: 0.5506\n",
            "Epoch 30/40\n",
            "1190/1190 [==============================] - 1262s 1s/step - loss: 0.6914 - top_k_categorical_accuracy: 0.8375 - val_loss: 2.3674 - val_top_k_categorical_accuracy: 0.5634\n",
            "Epoch 31/40\n",
            "1190/1190 [==============================] - 1264s 1s/step - loss: 0.6693 - top_k_categorical_accuracy: 0.8431 - val_loss: 2.3808 - val_top_k_categorical_accuracy: 0.5680\n",
            "Epoch 32/40\n",
            "1190/1190 [==============================] - 1263s 1s/step - loss: 0.6520 - top_k_categorical_accuracy: 0.8460 - val_loss: 2.4228 - val_top_k_categorical_accuracy: 0.5624\n",
            "Epoch 33/40\n",
            "1190/1190 [==============================] - 1264s 1s/step - loss: 0.6455 - top_k_categorical_accuracy: 0.8464 - val_loss: 2.3998 - val_top_k_categorical_accuracy: 0.5672\n",
            "Epoch 34/40\n",
            "1190/1190 [==============================] - 1263s 1s/step - loss: 0.6334 - top_k_categorical_accuracy: 0.8479 - val_loss: 2.4638 - val_top_k_categorical_accuracy: 0.5573\n",
            "Epoch 35/40\n",
            "1190/1190 [==============================] - 1261s 1s/step - loss: 0.6195 - top_k_categorical_accuracy: 0.8546 - val_loss: 2.4313 - val_top_k_categorical_accuracy: 0.5681\n",
            "Epoch 36/40\n",
            "1190/1190 [==============================] - 1261s 1s/step - loss: 0.6098 - top_k_categorical_accuracy: 0.8559 - val_loss: 2.4628 - val_top_k_categorical_accuracy: 0.5615\n",
            "Epoch 37/40\n",
            "1190/1190 [==============================] - 1262s 1s/step - loss: 0.6037 - top_k_categorical_accuracy: 0.8565 - val_loss: 2.4859 - val_top_k_categorical_accuracy: 0.5630\n",
            "Epoch 38/40\n",
            "1190/1190 [==============================] - 1260s 1s/step - loss: 0.5859 - top_k_categorical_accuracy: 0.8614 - val_loss: 2.4796 - val_top_k_categorical_accuracy: 0.5646\n",
            "Epoch 39/40\n",
            "1190/1190 [==============================] - 1261s 1s/step - loss: 0.5798 - top_k_categorical_accuracy: 0.8614 - val_loss: 2.4697 - val_top_k_categorical_accuracy: 0.5629\n",
            "Epoch 40/40\n",
            "1190/1190 [==============================] - 1261s 1s/step - loss: 0.5732 - top_k_categorical_accuracy: 0.8657 - val_loss: 2.4610 - val_top_k_categorical_accuracy: 0.5637\n"
          ],
          "name": "stdout"
        }
      ]
    },
    {
      "cell_type": "code",
      "metadata": {
        "id": "mtq5pZauURC6",
        "colab": {
          "base_uri": "https://localhost:8080/",
          "height": 404
        },
        "outputId": "16bbfb77-f5e0-4abd-b157-873d767cce98"
      },
      "source": [
        "plt.figure(figsize=(12, 6))\n",
        "plt.subplot(1, 2, 1)\n",
        "plt.plot(history.history['top_k_categorical_accuracy'])\n",
        "plt.plot(history.history['val_top_k_categorical_accuracy'])\n",
        "plt.title('model accuracy')\n",
        "plt.ylabel('accuracy')\n",
        "plt.xlabel('epoch')\n",
        "plt.legend(['train', 'val'], loc='upper left')\n",
        "\n",
        "plt.subplot(1, 2, 2)\n",
        "plt.plot(history.history['loss'])\n",
        "plt.plot(history.history['val_loss'])\n",
        "plt.title('model loss')\n",
        "plt.ylabel('accuracy')\n",
        "plt.xlabel('epoch')\n",
        "plt.legend(['train', 'val'], loc='upper left')\n",
        "plt.show()"
      ],
      "execution_count": null,
      "outputs": [
        {
          "output_type": "display_data",
          "data": {
            "text/plain": [
              "<Figure size 864x432 with 2 Axes>"
            ],
            "image/png": "[encoded data removed]"
          },
          "metadata": {
            "tags": [],
            "needs_background": "light"
          }
        }
      ]
    },
    {
      "cell_type": "markdown",
      "metadata": {
        "id": "y9DO7uQ0wPCr"
      },
      "source": [
        "**uncropped images for resnet top1**\n",
        "\n",
        "\n",
        "\n",
        "\n"
      ]
    },
    {
      "cell_type": "code",
      "metadata": {
        "id": "7kGTWhDdVIOy"
      },
      "source": [
        "import keras\n",
        "from keras.applications.resnet_v2 import ResNet152V2\n",
        "from keras.models import Sequential\n",
        "from keras.layers import Dense,Dropout, Flatten, Conv2D,MaxPool2D, BatchNormalization\n",
        "import numpy as np\n",
        "from keras.preprocessing.image import ImageDataGenerator\n",
        "from keras.regularizers import l2\n",
        "import matplotlib.pyplot as plt\n",
        "import random"
      ],
      "execution_count": null,
      "outputs": []
    },
    {
      "cell_type": "code",
      "metadata": {
        "id": "mu69QVcQwZiZ"
      },
      "source": [
        "resnet= ResNet152V2(include_top=False,weights='imagenet',input_shape=(300,300,3))\n",
        "for layer in resnet.layers:\n",
        "  layer.trainable=False\n",
        "model=Sequential()\n",
        "model.add(resnet)\n",
        "model.add(Flatten())\n",
        "model.add(Dropout(0.5))\n",
        "model.add(Dense(512, activation='relu'))\n",
        "model.add(Dense(256,activation='relu',kernel_regularizer=l2(0.01),bias_regularizer=l2(0.01)))\n",
        "model.add(Dense(256, activation='softmax'))"
      ],
      "execution_count": null,
      "outputs": []
    },
    {
      "cell_type": "code",
      "metadata": {
        "id": "5vBJEekywfLj"
      },
      "source": [
        "opt = keras.optimizers.Adam(learning_rate=1e-4)\n",
        "met=keras.metrics.TopKCategoricalAccuracy(k=1)\n",
        "model.compile(optimizer=opt,loss='categorical_crossentropy',metrics=met)"
      ],
      "execution_count": null,
      "outputs": []
    },
    {
      "cell_type": "code",
      "metadata": {
        "id": "YSnwQdafwmbu",
        "colab": {
          "base_uri": "https://localhost:8080/"
        },
        "outputId": "6cef725d-49bb-4ffa-f7de-a6d8eb9ca301"
      },
      "source": [
        "dir1='/content/delphine/UECF_256'\n",
        "\n",
        "gen1=ImageDataGenerator(rescale= 1./255,width_shift_range=0.3,zoom_range=0.3,height_shift_range=0.2,rotation_range=30,validation_split=0.3)\n",
        "gen2=ImageDataGenerator(rescale=1./255,validation_split=0.3)\n",
        "\n",
        "training_data=gen1.flow_from_directory(dir1, batch_size=16, target_size=(300,300),shuffle=True,subset='training')\n",
        "validation_data=gen2.flow_from_directory(dir1, batch_size=16, target_size=(300,300), subset='validation')\n",
        "print(training_data.image_shape)"
      ],
      "execution_count": null,
      "outputs": [
        {
          "output_type": "stream",
          "text": [
            "Found 22089 images belonging to 256 classes.\n",
            "Found 9306 images belonging to 256 classes.\n",
            "(300, 300, 3)\n"
          ],
          "name": "stdout"
        }
      ]
    },
    {
      "cell_type": "code",
      "metadata": {
        "id": "A2s0yYpiwrZR",
        "colab": {
          "base_uri": "https://localhost:8080/"
        },
        "outputId": "0ed32a03-2524-4d9e-e76a-648462595ab5"
      },
      "source": [
        "history=model.fit(training_data, epochs=40, verbose=1, validation_data=validation_data,steps_per_epoch=1190, validation_steps=800)"
      ],
      "execution_count": null,
      "outputs": [
        {
          "output_type": "stream",
          "text": [
            "Epoch 1/40\n",
            "1190/1190 [==============================] - 685s 576ms/step - loss: 6.9345 - top_k_categorical_accuracy: 0.0986 - val_loss: 5.1845 - val_top_k_categorical_accuracy: 0.2142\n",
            "Epoch 2/40\n",
            "1190/1190 [==============================] - 685s 576ms/step - loss: 4.4397 - top_k_categorical_accuracy: 0.2434 - val_loss: 4.0525 - val_top_k_categorical_accuracy: 0.2929\n",
            "Epoch 3/40\n",
            "1190/1190 [==============================] - 685s 576ms/step - loss: 3.6053 - top_k_categorical_accuracy: 0.3177 - val_loss: 3.7196 - val_top_k_categorical_accuracy: 0.3370\n",
            "Epoch 4/40\n",
            "1190/1190 [==============================] - 689s 579ms/step - loss: 3.1945 - top_k_categorical_accuracy: 0.3663 - val_loss: 3.3969 - val_top_k_categorical_accuracy: 0.3685\n",
            "Epoch 5/40\n",
            "1190/1190 [==============================] - 689s 579ms/step - loss: 2.9282 - top_k_categorical_accuracy: 0.4047 - val_loss: 3.2750 - val_top_k_categorical_accuracy: 0.3878\n",
            "Epoch 6/40\n",
            "1190/1190 [==============================] - 685s 576ms/step - loss: 2.7498 - top_k_categorical_accuracy: 0.4280 - val_loss: 3.1942 - val_top_k_categorical_accuracy: 0.3853\n",
            "Epoch 7/40\n",
            "1190/1190 [==============================] - 687s 578ms/step - loss: 2.6040 - top_k_categorical_accuracy: 0.4512 - val_loss: 3.0910 - val_top_k_categorical_accuracy: 0.4063\n",
            "Epoch 8/40\n",
            "1190/1190 [==============================] - 687s 578ms/step - loss: 2.4388 - top_k_categorical_accuracy: 0.4736 - val_loss: 2.9809 - val_top_k_categorical_accuracy: 0.4181\n",
            "Epoch 9/40\n",
            "1190/1190 [==============================] - 685s 576ms/step - loss: 2.3178 - top_k_categorical_accuracy: 0.4937 - val_loss: 2.9936 - val_top_k_categorical_accuracy: 0.4191\n",
            "Epoch 10/40\n",
            "1190/1190 [==============================] - 688s 578ms/step - loss: 2.2255 - top_k_categorical_accuracy: 0.5050 - val_loss: 2.9466 - val_top_k_categorical_accuracy: 0.4222\n",
            "Epoch 11/40\n",
            "1190/1190 [==============================] - 693s 582ms/step - loss: 2.1661 - top_k_categorical_accuracy: 0.5159 - val_loss: 2.9424 - val_top_k_categorical_accuracy: 0.4256\n",
            "Epoch 12/40\n",
            "1190/1190 [==============================] - 693s 582ms/step - loss: 2.0615 - top_k_categorical_accuracy: 0.5349 - val_loss: 2.8811 - val_top_k_categorical_accuracy: 0.4352\n",
            "Epoch 13/40\n",
            "1190/1190 [==============================] - 690s 580ms/step - loss: 1.9907 - top_k_categorical_accuracy: 0.5438 - val_loss: 2.9373 - val_top_k_categorical_accuracy: 0.4374\n",
            "Epoch 14/40\n",
            "1190/1190 [==============================] - 690s 580ms/step - loss: 1.9470 - top_k_categorical_accuracy: 0.5500 - val_loss: 2.8936 - val_top_k_categorical_accuracy: 0.4361\n",
            "Epoch 15/40\n",
            "1190/1190 [==============================] - 694s 583ms/step - loss: 1.8733 - top_k_categorical_accuracy: 0.5633 - val_loss: 2.8176 - val_top_k_categorical_accuracy: 0.4517\n",
            "Epoch 16/40\n",
            "1190/1190 [==============================] - 692s 581ms/step - loss: 1.8228 - top_k_categorical_accuracy: 0.5722 - val_loss: 2.7934 - val_top_k_categorical_accuracy: 0.4453\n",
            "Epoch 17/40\n",
            "1190/1190 [==============================] - 692s 582ms/step - loss: 1.7672 - top_k_categorical_accuracy: 0.5794 - val_loss: 2.8252 - val_top_k_categorical_accuracy: 0.4472\n",
            "Epoch 18/40\n",
            "1190/1190 [==============================] - 690s 580ms/step - loss: 1.7257 - top_k_categorical_accuracy: 0.5881 - val_loss: 2.7768 - val_top_k_categorical_accuracy: 0.4465\n",
            "Epoch 19/40\n",
            "1190/1190 [==============================] - 690s 580ms/step - loss: 1.6815 - top_k_categorical_accuracy: 0.5986 - val_loss: 2.8145 - val_top_k_categorical_accuracy: 0.4534\n",
            "Epoch 20/40\n",
            "1190/1190 [==============================] - 690s 580ms/step - loss: 1.6475 - top_k_categorical_accuracy: 0.6045 - val_loss: 2.8363 - val_top_k_categorical_accuracy: 0.4540\n",
            "Epoch 21/40\n",
            "1190/1190 [==============================] - 692s 582ms/step - loss: 1.6059 - top_k_categorical_accuracy: 0.6098 - val_loss: 2.7912 - val_top_k_categorical_accuracy: 0.4602\n",
            "Epoch 22/40\n",
            "1190/1190 [==============================] - 693s 582ms/step - loss: 1.5734 - top_k_categorical_accuracy: 0.6142 - val_loss: 2.7481 - val_top_k_categorical_accuracy: 0.4588\n",
            "Epoch 23/40\n",
            "1190/1190 [==============================] - 691s 580ms/step - loss: 1.5149 - top_k_categorical_accuracy: 0.6294 - val_loss: 2.7634 - val_top_k_categorical_accuracy: 0.4587\n",
            "Epoch 24/40\n",
            "1190/1190 [==============================] - 690s 580ms/step - loss: 1.5018 - top_k_categorical_accuracy: 0.6326 - val_loss: 2.7996 - val_top_k_categorical_accuracy: 0.4625\n",
            "Epoch 25/40\n",
            "1190/1190 [==============================] - 688s 578ms/step - loss: 1.4611 - top_k_categorical_accuracy: 0.6368 - val_loss: 2.7598 - val_top_k_categorical_accuracy: 0.4615\n",
            "Epoch 26/40\n",
            "1190/1190 [==============================] - 691s 581ms/step - loss: 1.4621 - top_k_categorical_accuracy: 0.6350 - val_loss: 2.7527 - val_top_k_categorical_accuracy: 0.4669\n",
            "Epoch 27/40\n",
            "1190/1190 [==============================] - 693s 583ms/step - loss: 1.4365 - top_k_categorical_accuracy: 0.6429 - val_loss: 2.8509 - val_top_k_categorical_accuracy: 0.4643\n",
            "Epoch 28/40\n",
            "1190/1190 [==============================] - 692s 581ms/step - loss: 1.4019 - top_k_categorical_accuracy: 0.6457 - val_loss: 2.7389 - val_top_k_categorical_accuracy: 0.4684\n",
            "Epoch 29/40\n",
            "1190/1190 [==============================] - 689s 579ms/step - loss: 1.3863 - top_k_categorical_accuracy: 0.6533 - val_loss: 2.7824 - val_top_k_categorical_accuracy: 0.4687\n",
            "Epoch 30/40\n",
            "1190/1190 [==============================] - 690s 580ms/step - loss: 1.3452 - top_k_categorical_accuracy: 0.6635 - val_loss: 2.7789 - val_top_k_categorical_accuracy: 0.4712\n",
            "Epoch 31/40\n",
            "1190/1190 [==============================] - 691s 581ms/step - loss: 1.3343 - top_k_categorical_accuracy: 0.6639 - val_loss: 2.7515 - val_top_k_categorical_accuracy: 0.4661\n",
            "Epoch 32/40\n",
            "1190/1190 [==============================] - 693s 582ms/step - loss: 1.3037 - top_k_categorical_accuracy: 0.6721 - val_loss: 2.7554 - val_top_k_categorical_accuracy: 0.4743\n",
            "Epoch 33/40\n",
            "1190/1190 [==============================] - 690s 580ms/step - loss: 1.2926 - top_k_categorical_accuracy: 0.6714 - val_loss: 2.8743 - val_top_k_categorical_accuracy: 0.4658\n",
            "Epoch 34/40\n",
            "1190/1190 [==============================] - 688s 578ms/step - loss: 1.2822 - top_k_categorical_accuracy: 0.6725 - val_loss: 2.8475 - val_top_k_categorical_accuracy: 0.4703\n",
            "Epoch 35/40\n",
            "1190/1190 [==============================] - 689s 579ms/step - loss: 1.2700 - top_k_categorical_accuracy: 0.6766 - val_loss: 2.8264 - val_top_k_categorical_accuracy: 0.4714\n",
            "Epoch 36/40\n",
            "1190/1190 [==============================] - 688s 578ms/step - loss: 1.2364 - top_k_categorical_accuracy: 0.6831 - val_loss: 2.7672 - val_top_k_categorical_accuracy: 0.4751\n",
            "Epoch 37/40\n",
            "1190/1190 [==============================] - 694s 583ms/step - loss: 1.2386 - top_k_categorical_accuracy: 0.6831 - val_loss: 2.8393 - val_top_k_categorical_accuracy: 0.4741\n",
            "Epoch 38/40\n",
            "1190/1190 [==============================] - 689s 579ms/step - loss: 1.2252 - top_k_categorical_accuracy: 0.6841 - val_loss: 2.8031 - val_top_k_categorical_accuracy: 0.4696\n",
            "Epoch 39/40\n",
            "1190/1190 [==============================] - 695s 584ms/step - loss: 1.1896 - top_k_categorical_accuracy: 0.6934 - val_loss: 2.8368 - val_top_k_categorical_accuracy: 0.4638\n",
            "Epoch 40/40\n",
            "1190/1190 [==============================] - 689s 579ms/step - loss: 1.1716 - top_k_categorical_accuracy: 0.6984 - val_loss: 2.8579 - val_top_k_categorical_accuracy: 0.4737\n"
          ],
          "name": "stdout"
        }
      ]
    },
    {
      "cell_type": "code",
      "metadata": {
        "id": "n-zD2YdJiz_D",
        "colab": {
          "base_uri": "https://localhost:8080/",
          "height": 404
        },
        "outputId": "0718fc38-ab2f-43e1-e8d0-9f92f9a7ca01"
      },
      "source": [
        "plt.figure(figsize=(12, 6))\n",
        "plt.subplot(1, 2, 1)\n",
        "plt.plot(history.history['top_k_categorical_accuracy'])\n",
        "plt.plot(history.history['val_top_k_categorical_accuracy'])\n",
        "plt.title('model accuracy')\n",
        "plt.ylabel('accuracy')\n",
        "plt.xlabel('epoch')\n",
        "plt.legend(['train', 'val'], loc='upper left')\n",
        "\n",
        "plt.subplot(1, 2, 2)\n",
        "plt.plot(history.history['loss'])\n",
        "plt.plot(history.history['val_loss'])\n",
        "plt.title('model loss')\n",
        "plt.ylabel('accuracy')\n",
        "plt.xlabel('epoch')\n",
        "plt.legend(['train', 'val'], loc='upper left')\n",
        "plt.show()"
      ],
      "execution_count": null,
      "outputs": [
        {
          "output_type": "display_data",
          "data": {
            "text/plain": [
              "<Figure size 864x432 with 2 Axes>"
            ],
            "image/png": "[encoded data removed]"
          },
          "metadata": {
            "tags": [],
            "needs_background": "light"
          }
        }
      ]
    },
    {
      "cell_type": "code",
      "metadata": {
        "id": "1Uj_bYLdiz9x"
      },
      "source": [
        ""
      ],
      "execution_count": null,
      "outputs": []
    },
    {
      "cell_type": "markdown",
      "metadata": {
        "id": "fHd5R1Oux6g5"
      },
      "source": [
        "resenet top5 for uncropped images"
      ]
    },
    {
      "cell_type": "code",
      "metadata": {
        "id": "yZcrW8LXyXKA"
      },
      "source": [
        "import keras\n",
        "from keras.applications.resnet_v2 import ResNet152V2\n",
        "from keras.models import Sequential\n",
        "from keras.layers import Dense,Dropout, Flatten, Conv2D,MaxPool2D, BatchNormalization\n",
        "import numpy as np\n",
        "from keras.preprocessing.image import ImageDataGenerator\n",
        "from keras.regularizers import l2\n",
        "import matplotlib.pyplot as plt\n",
        "import random"
      ],
      "execution_count": null,
      "outputs": []
    },
    {
      "cell_type": "code",
      "metadata": {
        "id": "RFS0-bZLyTDu"
      },
      "source": [
        "resnet= ResNet152V2(include_top=False,weights='imagenet',input_shape=(300,300,3))\n",
        "for layer in resnet.layers:\n",
        "  layer.trainable=False\n",
        "model=Sequential()\n",
        "model.add(resnet)\n",
        "model.add(Flatten())\n",
        "model.add(Dropout(0.5))\n",
        "model.add(Dense(512, activation='relu'))\n",
        "model.add(Dense(256,activation='relu',kernel_regularizer=l2(0.01),bias_regularizer=l2(0.01)))\n",
        "model.add(Dense(256, activation='softmax'))"
      ],
      "execution_count": null,
      "outputs": []
    },
    {
      "cell_type": "code",
      "metadata": {
        "id": "zMCEZxflyLqW"
      },
      "source": [
        "opt = keras.optimizers.Adam(learning_rate=1e-4)\n",
        "met=keras.metrics.TopKCategoricalAccuracy(k=5)\n",
        "model.compile(optimizer=opt,loss='categorical_crossentropy',metrics=met)"
      ],
      "execution_count": null,
      "outputs": []
    },
    {
      "cell_type": "code",
      "metadata": {
        "id": "DKdaYq7pyLpY",
        "colab": {
          "base_uri": "https://localhost:8080/"
        },
        "outputId": "cf8c38f4-ebfd-41e3-985e-873c62c37dce"
      },
      "source": [
        "dir1='/content/delphine/UECF_256'\n",
        "\n",
        "gen1=ImageDataGenerator(rescale= 1./255,width_shift_range=0.3,zoom_range=0.3,height_shift_range=0.2,rotation_range=30,validation_split=0.3)\n",
        "gen2=ImageDataGenerator(rescale=1./255,validation_split=0.3)\n",
        "\n",
        "training_data=gen1.flow_from_directory(dir1, batch_size=16, target_size=(300,300),shuffle=True,subset='training')\n",
        "validation_data=gen2.flow_from_directory(dir1, batch_size=16, target_size=(300,300), subset='validation')\n",
        "print(training_data.image_shape)"
      ],
      "execution_count": null,
      "outputs": [
        {
          "output_type": "stream",
          "text": [
            "Found 22089 images belonging to 256 classes.\n",
            "Found 9306 images belonging to 256 classes.\n",
            "(300, 300, 3)\n"
          ],
          "name": "stdout"
        }
      ]
    },
    {
      "cell_type": "code",
      "metadata": {
        "id": "0LQOrjDdyAbA",
        "colab": {
          "base_uri": "https://localhost:8080/"
        },
        "outputId": "ca983d52-fc4b-4902-cf5d-12da5bf9c50f"
      },
      "source": [
        "history=model.fit(training_data, epochs=40, verbose=1, validation_data=validation_data,steps_per_epoch=1190, validation_steps=800)"
      ],
      "execution_count": null,
      "outputs": [
        {
          "output_type": "stream",
          "text": [
            "Epoch 1/40\n",
            "1190/1190 [==============================] - 695s 584ms/step - loss: 6.8404 - top_k_categorical_accuracy: 0.2663 - val_loss: 5.0949 - val_top_k_categorical_accuracy: 0.4698\n",
            "Epoch 2/40\n",
            "1190/1190 [==============================] - 689s 579ms/step - loss: 4.3657 - top_k_categorical_accuracy: 0.5233 - val_loss: 4.0364 - val_top_k_categorical_accuracy: 0.5725\n",
            "Epoch 3/40\n",
            "1190/1190 [==============================] - 689s 579ms/step - loss: 3.5807 - top_k_categorical_accuracy: 0.6166 - val_loss: 3.6539 - val_top_k_categorical_accuracy: 0.6199\n",
            "Epoch 4/40\n",
            "1190/1190 [==============================] - 687s 577ms/step - loss: 3.1713 - top_k_categorical_accuracy: 0.6738 - val_loss: 3.4595 - val_top_k_categorical_accuracy: 0.6481\n",
            "Epoch 5/40\n",
            "1190/1190 [==============================] - 692s 582ms/step - loss: 2.9144 - top_k_categorical_accuracy: 0.7093 - val_loss: 3.3386 - val_top_k_categorical_accuracy: 0.6679\n",
            "Epoch 6/40\n",
            "1190/1190 [==============================] - 688s 579ms/step - loss: 2.7356 - top_k_categorical_accuracy: 0.7304 - val_loss: 3.2325 - val_top_k_categorical_accuracy: 0.6749\n",
            "Epoch 7/40\n",
            "1190/1190 [==============================] - 690s 580ms/step - loss: 2.5753 - top_k_categorical_accuracy: 0.7502 - val_loss: 3.1519 - val_top_k_categorical_accuracy: 0.6885\n",
            "Epoch 8/40\n",
            "1190/1190 [==============================] - 692s 581ms/step - loss: 2.4292 - top_k_categorical_accuracy: 0.7726 - val_loss: 3.1001 - val_top_k_categorical_accuracy: 0.6902\n",
            "Epoch 9/40\n",
            "1190/1190 [==============================] - 689s 579ms/step - loss: 2.3108 - top_k_categorical_accuracy: 0.7865 - val_loss: 2.9873 - val_top_k_categorical_accuracy: 0.7010\n",
            "Epoch 10/40\n",
            "1190/1190 [==============================] - 688s 578ms/step - loss: 2.2405 - top_k_categorical_accuracy: 0.7968 - val_loss: 2.9918 - val_top_k_categorical_accuracy: 0.6996\n",
            "Epoch 11/40\n",
            "1190/1190 [==============================] - 689s 579ms/step - loss: 2.1438 - top_k_categorical_accuracy: 0.8115 - val_loss: 2.9922 - val_top_k_categorical_accuracy: 0.7042\n",
            "Epoch 12/40\n",
            "1190/1190 [==============================] - 691s 581ms/step - loss: 2.0745 - top_k_categorical_accuracy: 0.8197 - val_loss: 2.9845 - val_top_k_categorical_accuracy: 0.7133\n",
            "Epoch 13/40\n",
            "1190/1190 [==============================] - 689s 579ms/step - loss: 2.0133 - top_k_categorical_accuracy: 0.8271 - val_loss: 2.8760 - val_top_k_categorical_accuracy: 0.7183\n",
            "Epoch 14/40\n",
            "1190/1190 [==============================] - 695s 584ms/step - loss: 1.9494 - top_k_categorical_accuracy: 0.8320 - val_loss: 2.8633 - val_top_k_categorical_accuracy: 0.7189\n",
            "Epoch 15/40\n",
            "1190/1190 [==============================] - 690s 580ms/step - loss: 1.8899 - top_k_categorical_accuracy: 0.8419 - val_loss: 2.7802 - val_top_k_categorical_accuracy: 0.7264\n",
            "Epoch 16/40\n",
            "1190/1190 [==============================] - 693s 582ms/step - loss: 1.8209 - top_k_categorical_accuracy: 0.8465 - val_loss: 2.8978 - val_top_k_categorical_accuracy: 0.7207\n",
            "Epoch 17/40\n",
            "1190/1190 [==============================] - 689s 579ms/step - loss: 1.7626 - top_k_categorical_accuracy: 0.8593 - val_loss: 2.8473 - val_top_k_categorical_accuracy: 0.7284\n",
            "Epoch 18/40\n",
            "1190/1190 [==============================] - 692s 581ms/step - loss: 1.7288 - top_k_categorical_accuracy: 0.8597 - val_loss: 2.8633 - val_top_k_categorical_accuracy: 0.7203\n",
            "Epoch 19/40\n",
            "1190/1190 [==============================] - 689s 579ms/step - loss: 1.7012 - top_k_categorical_accuracy: 0.8623 - val_loss: 2.9243 - val_top_k_categorical_accuracy: 0.7237\n",
            "Epoch 20/40\n",
            "1190/1190 [==============================] - 690s 580ms/step - loss: 1.6467 - top_k_categorical_accuracy: 0.8722 - val_loss: 2.9158 - val_top_k_categorical_accuracy: 0.7323\n",
            "Epoch 21/40\n",
            "1190/1190 [==============================] - 690s 580ms/step - loss: 1.6212 - top_k_categorical_accuracy: 0.8721 - val_loss: 2.8344 - val_top_k_categorical_accuracy: 0.7280\n",
            "Epoch 22/40\n",
            "1190/1190 [==============================] - 692s 582ms/step - loss: 1.5945 - top_k_categorical_accuracy: 0.8768 - val_loss: 2.7343 - val_top_k_categorical_accuracy: 0.7328\n",
            "Epoch 23/40\n",
            "1190/1190 [==============================] - 694s 583ms/step - loss: 1.5338 - top_k_categorical_accuracy: 0.8848 - val_loss: 2.8661 - val_top_k_categorical_accuracy: 0.7304\n",
            "Epoch 24/40\n",
            "1190/1190 [==============================] - 692s 581ms/step - loss: 1.5350 - top_k_categorical_accuracy: 0.8849 - val_loss: 2.8354 - val_top_k_categorical_accuracy: 0.7268\n",
            "Epoch 25/40\n",
            "1190/1190 [==============================] - 688s 578ms/step - loss: 1.4847 - top_k_categorical_accuracy: 0.8872 - val_loss: 2.8003 - val_top_k_categorical_accuracy: 0.7367\n",
            "Epoch 26/40\n",
            "1190/1190 [==============================] - 690s 579ms/step - loss: 1.4598 - top_k_categorical_accuracy: 0.8948 - val_loss: 2.8524 - val_top_k_categorical_accuracy: 0.7306\n",
            "Epoch 27/40\n",
            "1190/1190 [==============================] - 691s 581ms/step - loss: 1.4309 - top_k_categorical_accuracy: 0.8964 - val_loss: 2.8811 - val_top_k_categorical_accuracy: 0.7308\n",
            "Epoch 28/40\n",
            "1190/1190 [==============================] - 691s 581ms/step - loss: 1.4220 - top_k_categorical_accuracy: 0.8980 - val_loss: 2.8554 - val_top_k_categorical_accuracy: 0.7306\n",
            "Epoch 29/40\n",
            "1190/1190 [==============================] - 694s 584ms/step - loss: 1.4061 - top_k_categorical_accuracy: 0.8973 - val_loss: 2.8417 - val_top_k_categorical_accuracy: 0.7300\n",
            "Epoch 30/40\n",
            "1190/1190 [==============================] - 694s 583ms/step - loss: 1.3667 - top_k_categorical_accuracy: 0.9031 - val_loss: 2.7967 - val_top_k_categorical_accuracy: 0.7327\n",
            "Epoch 31/40\n",
            "1190/1190 [==============================] - 688s 578ms/step - loss: 1.3357 - top_k_categorical_accuracy: 0.9094 - val_loss: 2.7991 - val_top_k_categorical_accuracy: 0.7402\n",
            "Epoch 32/40\n",
            "1190/1190 [==============================] - 689s 579ms/step - loss: 1.3396 - top_k_categorical_accuracy: 0.9093 - val_loss: 2.8223 - val_top_k_categorical_accuracy: 0.7394\n",
            "Epoch 33/40\n",
            "1190/1190 [==============================] - 690s 580ms/step - loss: 1.2979 - top_k_categorical_accuracy: 0.9135 - val_loss: 2.8596 - val_top_k_categorical_accuracy: 0.7355\n",
            "Epoch 34/40\n",
            "1190/1190 [==============================] - 693s 582ms/step - loss: 1.2753 - top_k_categorical_accuracy: 0.9129 - val_loss: 2.9363 - val_top_k_categorical_accuracy: 0.7334\n",
            "Epoch 35/40\n",
            "1190/1190 [==============================] - 692s 582ms/step - loss: 1.2744 - top_k_categorical_accuracy: 0.9148 - val_loss: 2.8274 - val_top_k_categorical_accuracy: 0.7423\n",
            "Epoch 36/40\n",
            "1190/1190 [==============================] - 690s 580ms/step - loss: 1.2548 - top_k_categorical_accuracy: 0.9185 - val_loss: 2.8591 - val_top_k_categorical_accuracy: 0.7373\n",
            "Epoch 37/40\n",
            "1190/1190 [==============================] - 692s 581ms/step - loss: 1.2239 - top_k_categorical_accuracy: 0.9226 - val_loss: 2.8582 - val_top_k_categorical_accuracy: 0.7364\n",
            "Epoch 38/40\n",
            "1190/1190 [==============================] - 689s 579ms/step - loss: 1.2097 - top_k_categorical_accuracy: 0.9241 - val_loss: 2.8655 - val_top_k_categorical_accuracy: 0.7365\n",
            "Epoch 39/40\n",
            "1190/1190 [==============================] - 690s 580ms/step - loss: 1.1941 - top_k_categorical_accuracy: 0.9258 - val_loss: 2.9301 - val_top_k_categorical_accuracy: 0.7325\n",
            "Epoch 40/40\n",
            "1190/1190 [==============================] - 694s 583ms/step - loss: 1.2033 - top_k_categorical_accuracy: 0.9236 - val_loss: 2.7905 - val_top_k_categorical_accuracy: 0.7441\n"
          ],
          "name": "stdout"
        }
      ]
    },
    {
      "cell_type": "code",
      "metadata": {
        "id": "rzuyFWhkjE6i",
        "colab": {
          "base_uri": "https://localhost:8080/",
          "height": 404
        },
        "outputId": "d782a868-0b17-4388-8ebe-074581f926cc"
      },
      "source": [
        "plt.figure(figsize=(12, 6))\n",
        "plt.subplot(1, 2, 1)\n",
        "plt.plot(history.history['top_k_categorical_accuracy'])\n",
        "plt.plot(history.history['val_top_k_categorical_accuracy'])\n",
        "plt.title('model accuracy')\n",
        "plt.ylabel('accuracy')\n",
        "plt.xlabel('epoch')\n",
        "plt.legend(['train', 'val'], loc='upper left')\n",
        "\n",
        "plt.subplot(1, 2, 2)\n",
        "plt.plot(history.history['loss'])\n",
        "plt.plot(history.history['val_loss'])\n",
        "plt.title('model loss')\n",
        "plt.ylabel('accuracy')\n",
        "plt.xlabel('epoch')\n",
        "plt.legend(['train', 'val'], loc='upper left')\n",
        "plt.show()"
      ],
      "execution_count": null,
      "outputs": [
        {
          "output_type": "display_data",
          "data": {
            "text/plain": [
              "<Figure size 864x432 with 2 Axes>"
            ],
            "image/png": "[encoded data removed]"
          },
          "metadata": {
            "tags": [],
            "needs_background": "light"
          }
        }
      ]
    },
    {
      "cell_type": "markdown",
      "metadata": {
        "id": "mrPaaadhwtyA"
      },
      "source": [
        "densenet fro uncropped images"
      ]
    },
    {
      "cell_type": "code",
      "metadata": {
        "id": "G4PjqtUGws_s"
      },
      "source": [
        "import keras\n",
        "from keras.applications.densenet import DenseNet201\n",
        "from keras.models import Sequential\n",
        "from keras.layers import Dense,Dropout, Flatten, Conv2D,MaxPool2D, BatchNormalization\n",
        "import numpy as np\n",
        "from keras.preprocessing.image import ImageDataGenerator\n",
        "from keras.regularizers import l2\n",
        "import matplotlib.pyplot as plt\n",
        "import random"
      ],
      "execution_count": null,
      "outputs": []
    },
    {
      "cell_type": "code",
      "metadata": {
        "id": "l7j6FjDgw160"
      },
      "source": [
        "densenet=DenseNet201(weights='imagenet',include_top=False,input_shape=(300,300,3))\n",
        "for layer in densenet.layers[:120]:\n",
        "  layer.trainable=False\n",
        "model=Sequential()\n",
        "model.add(densenet)\n",
        "model.add(Flatten())\n",
        "model.add(Dropout(0.5))\n",
        "model.add(Dense(512, activation='relu'))\n",
        "model.add(Dense(256,activation='relu',kernel_regularizer=l2(0.01),bias_regularizer=l2(0.01)))\n",
        "model.add(Dense(256, activation='softmax'))"
      ],
      "execution_count": null,
      "outputs": []
    },
    {
      "cell_type": "code",
      "metadata": {
        "id": "X2WhnM5UxRr1"
      },
      "source": [
        "opt = keras.optimizers.Adam(learning_rate=1e-4)\n",
        "met=keras.metrics.TopKCategoricalAccuracy(k=5)\n",
        "model.compile(optimizer=opt,loss='categorical_crossentropy',metrics=met)"
      ],
      "execution_count": null,
      "outputs": []
    },
    {
      "cell_type": "code",
      "metadata": {
        "id": "pHjZgGvnxWB7",
        "colab": {
          "base_uri": "https://localhost:8080/"
        },
        "outputId": "3e304120-f56a-4575-e534-48e5c023ad0f"
      },
      "source": [
        "dir1='/content/delphine/UECF_256'\n",
        "\n",
        "gen1=ImageDataGenerator(rescale= 1./255,width_shift_range=0.3,zoom_range=0.3,height_shift_range=0.2,rotation_range=30,validation_split=0.3)\n",
        "gen2=ImageDataGenerator(rescale=1./255,validation_split=0.3)\n",
        "\n",
        "training_data=gen1.flow_from_directory(dir1, batch_size=16, target_size=(300,300),shuffle=True,subset='training')\n",
        "validation_data=gen2.flow_from_directory(dir1, batch_size=16, target_size=(300,300), subset='validation')\n",
        "print(training_data.image_shape)"
      ],
      "execution_count": null,
      "outputs": [
        {
          "output_type": "stream",
          "text": [
            "Found 22089 images belonging to 256 classes.\n",
            "Found 9306 images belonging to 256 classes.\n",
            "(300, 300, 3)\n"
          ],
          "name": "stdout"
        }
      ]
    },
    {
      "cell_type": "code",
      "metadata": {
        "id": "o5RD2gURxYkj",
        "colab": {
          "base_uri": "https://localhost:8080/"
        },
        "outputId": "3575ed7b-e58d-4645-b53f-c1013f45fed4"
      },
      "source": [
        "history=model.fit(training_data, epochs=40, verbose=1, validation_data=validation_data,steps_per_epoch=1190, validation_steps=800)"
      ],
      "execution_count": null,
      "outputs": [
        {
          "output_type": "stream",
          "text": [
            "Epoch 1/40\n",
            "1190/1190 [==============================] - 694s 583ms/step - loss: 6.4682 - top_k_categorical_accuracy: 0.2019 - val_loss: 4.5801 - val_top_k_categorical_accuracy: 0.4168\n",
            "Epoch 2/40\n",
            "1190/1190 [==============================] - 691s 581ms/step - loss: 3.6881 - top_k_categorical_accuracy: 0.5357 - val_loss: 3.6905 - val_top_k_categorical_accuracy: 0.5990\n",
            "Epoch 3/40\n",
            "1190/1190 [==============================] - 690s 580ms/step - loss: 2.7922 - top_k_categorical_accuracy: 0.6893 - val_loss: 3.2695 - val_top_k_categorical_accuracy: 0.6733\n",
            "Epoch 4/40\n",
            "1190/1190 [==============================] - 689s 579ms/step - loss: 2.3242 - top_k_categorical_accuracy: 0.7683 - val_loss: 3.1231 - val_top_k_categorical_accuracy: 0.6999\n",
            "Epoch 5/40\n",
            "1190/1190 [==============================] - 689s 579ms/step - loss: 2.0343 - top_k_categorical_accuracy: 0.8167 - val_loss: 2.7895 - val_top_k_categorical_accuracy: 0.7632\n",
            "Epoch 6/40\n",
            "1190/1190 [==============================] - 688s 578ms/step - loss: 1.8148 - top_k_categorical_accuracy: 0.8485 - val_loss: 2.9098 - val_top_k_categorical_accuracy: 0.7617\n",
            "Epoch 7/40\n",
            "1190/1190 [==============================] - 689s 579ms/step - loss: 1.6719 - top_k_categorical_accuracy: 0.8645 - val_loss: 2.6932 - val_top_k_categorical_accuracy: 0.7752\n",
            "Epoch 8/40\n",
            "1190/1190 [==============================] - 692s 581ms/step - loss: 1.5001 - top_k_categorical_accuracy: 0.8952 - val_loss: 2.7019 - val_top_k_categorical_accuracy: 0.7662\n",
            "Epoch 9/40\n",
            "1190/1190 [==============================] - 693s 583ms/step - loss: 1.3719 - top_k_categorical_accuracy: 0.9084 - val_loss: 2.7951 - val_top_k_categorical_accuracy: 0.7725\n",
            "Epoch 10/40\n",
            "1190/1190 [==============================] - 692s 581ms/step - loss: 1.2703 - top_k_categorical_accuracy: 0.9194 - val_loss: 2.8371 - val_top_k_categorical_accuracy: 0.7757\n",
            "Epoch 11/40\n",
            "1190/1190 [==============================] - 690s 580ms/step - loss: 1.2215 - top_k_categorical_accuracy: 0.9249 - val_loss: 2.7817 - val_top_k_categorical_accuracy: 0.7895\n",
            "Epoch 12/40\n",
            "1190/1190 [==============================] - 689s 579ms/step - loss: 1.1333 - top_k_categorical_accuracy: 0.9387 - val_loss: 2.8709 - val_top_k_categorical_accuracy: 0.7917\n",
            "Epoch 13/40\n",
            "1190/1190 [==============================] - 690s 579ms/step - loss: 1.0892 - top_k_categorical_accuracy: 0.9409 - val_loss: 2.9865 - val_top_k_categorical_accuracy: 0.7849\n",
            "Epoch 14/40\n",
            "1190/1190 [==============================] - 690s 580ms/step - loss: 1.0184 - top_k_categorical_accuracy: 0.9484 - val_loss: 2.9370 - val_top_k_categorical_accuracy: 0.7884\n",
            "Epoch 15/40\n",
            "1190/1190 [==============================] - 687s 577ms/step - loss: 0.9556 - top_k_categorical_accuracy: 0.9539 - val_loss: 3.0568 - val_top_k_categorical_accuracy: 0.7803\n",
            "Epoch 16/40\n",
            "1190/1190 [==============================] - 692s 581ms/step - loss: 0.9198 - top_k_categorical_accuracy: 0.9594 - val_loss: 2.8616 - val_top_k_categorical_accuracy: 0.7898\n",
            "Epoch 17/40\n",
            "1190/1190 [==============================] - 689s 579ms/step - loss: 0.8473 - top_k_categorical_accuracy: 0.9643 - val_loss: 2.8810 - val_top_k_categorical_accuracy: 0.8054\n",
            "Epoch 18/40\n",
            "1190/1190 [==============================] - 690s 580ms/step - loss: 0.8293 - top_k_categorical_accuracy: 0.9642 - val_loss: 3.0963 - val_top_k_categorical_accuracy: 0.7813\n",
            "Epoch 19/40\n",
            "1190/1190 [==============================] - 687s 577ms/step - loss: 0.7995 - top_k_categorical_accuracy: 0.9681 - val_loss: 3.3350 - val_top_k_categorical_accuracy: 0.8006\n",
            "Epoch 20/40\n",
            "1190/1190 [==============================] - 690s 580ms/step - loss: 0.7803 - top_k_categorical_accuracy: 0.9686 - val_loss: 3.0194 - val_top_k_categorical_accuracy: 0.8030\n",
            "Epoch 21/40\n",
            "1190/1190 [==============================] - 692s 581ms/step - loss: 0.7539 - top_k_categorical_accuracy: 0.9725 - val_loss: 2.8719 - val_top_k_categorical_accuracy: 0.8147\n",
            "Epoch 22/40\n",
            "1190/1190 [==============================] - 690s 580ms/step - loss: 0.7169 - top_k_categorical_accuracy: 0.9753 - val_loss: 3.0543 - val_top_k_categorical_accuracy: 0.8036\n",
            "Epoch 23/40\n",
            "1190/1190 [==============================] - 691s 581ms/step - loss: 0.6766 - top_k_categorical_accuracy: 0.9773 - val_loss: 3.0410 - val_top_k_categorical_accuracy: 0.8058\n",
            "Epoch 24/40\n",
            "1190/1190 [==============================] - 687s 578ms/step - loss: 0.6460 - top_k_categorical_accuracy: 0.9788 - val_loss: 3.1029 - val_top_k_categorical_accuracy: 0.8144\n",
            "Epoch 25/40\n",
            "1190/1190 [==============================] - 688s 578ms/step - loss: 0.6508 - top_k_categorical_accuracy: 0.9797 - val_loss: 3.3500 - val_top_k_categorical_accuracy: 0.7899\n",
            "Epoch 26/40\n",
            "1190/1190 [==============================] - 688s 578ms/step - loss: 0.6305 - top_k_categorical_accuracy: 0.9801 - val_loss: 3.3943 - val_top_k_categorical_accuracy: 0.7904\n",
            "Epoch 27/40\n",
            "1190/1190 [==============================] - 689s 579ms/step - loss: 0.6057 - top_k_categorical_accuracy: 0.9818 - val_loss: 3.1501 - val_top_k_categorical_accuracy: 0.8039\n",
            "Epoch 28/40\n",
            "1190/1190 [==============================] - 689s 579ms/step - loss: 0.6045 - top_k_categorical_accuracy: 0.9799 - val_loss: 3.1137 - val_top_k_categorical_accuracy: 0.8015\n",
            "Epoch 29/40\n",
            "1190/1190 [==============================] - 690s 579ms/step - loss: 0.5693 - top_k_categorical_accuracy: 0.9831 - val_loss: 3.2826 - val_top_k_categorical_accuracy: 0.7999\n",
            "Epoch 30/40\n",
            "1190/1190 [==============================] - 690s 580ms/step - loss: 0.5723 - top_k_categorical_accuracy: 0.9821 - val_loss: 3.2641 - val_top_k_categorical_accuracy: 0.7954\n",
            "Epoch 31/40\n",
            "1190/1190 [==============================] - 693s 582ms/step - loss: 0.5404 - top_k_categorical_accuracy: 0.9859 - val_loss: 2.9929 - val_top_k_categorical_accuracy: 0.8036\n",
            "Epoch 32/40\n",
            "1190/1190 [==============================] - 688s 578ms/step - loss: 0.5298 - top_k_categorical_accuracy: 0.9847 - val_loss: 3.4296 - val_top_k_categorical_accuracy: 0.7917\n",
            "Epoch 33/40\n",
            "1190/1190 [==============================] - 690s 580ms/step - loss: 0.5128 - top_k_categorical_accuracy: 0.9870 - val_loss: 3.3416 - val_top_k_categorical_accuracy: 0.8042\n",
            "Epoch 34/40\n",
            "1190/1190 [==============================] - 694s 583ms/step - loss: 0.5169 - top_k_categorical_accuracy: 0.9854 - val_loss: 3.5798 - val_top_k_categorical_accuracy: 0.7909\n",
            "Epoch 35/40\n",
            "1190/1190 [==============================] - 688s 579ms/step - loss: 0.5018 - top_k_categorical_accuracy: 0.9867 - val_loss: 3.5285 - val_top_k_categorical_accuracy: 0.7979\n",
            "Epoch 36/40\n",
            "1190/1190 [==============================] - 688s 578ms/step - loss: 0.4890 - top_k_categorical_accuracy: 0.9868 - val_loss: 3.4431 - val_top_k_categorical_accuracy: 0.8060\n",
            "Epoch 37/40\n",
            "1190/1190 [==============================] - 689s 579ms/step - loss: 0.4761 - top_k_categorical_accuracy: 0.9888 - val_loss: 3.5456 - val_top_k_categorical_accuracy: 0.8027\n",
            "Epoch 38/40\n",
            "1190/1190 [==============================] - 691s 581ms/step - loss: 0.4579 - top_k_categorical_accuracy: 0.9895 - val_loss: 3.3353 - val_top_k_categorical_accuracy: 0.8058\n",
            "Epoch 39/40\n",
            "1190/1190 [==============================] - 690s 580ms/step - loss: 0.4590 - top_k_categorical_accuracy: 0.9878 - val_loss: 3.7324 - val_top_k_categorical_accuracy: 0.7825\n",
            "Epoch 40/40\n",
            "1190/1190 [==============================] - 688s 578ms/step - loss: 0.4514 - top_k_categorical_accuracy: 0.9888 - val_loss: 3.4202 - val_top_k_categorical_accuracy: 0.8057\n"
          ],
          "name": "stdout"
        }
      ]
    },
    {
      "cell_type": "markdown",
      "metadata": {
        "id": "O30HOwkAjylH"
      },
      "source": [
        "for top1"
      ]
    },
    {
      "cell_type": "code",
      "metadata": {
        "id": "JxGTv7FJkyax"
      },
      "source": [
        "import keras\n",
        "from keras.applications.densenet import DenseNet201\n",
        "from keras.models import Sequential\n",
        "from keras.layers import Dense,Dropout, Flatten, Conv2D,MaxPool2D, BatchNormalization\n",
        "import numpy as np\n",
        "from keras.preprocessing.image import ImageDataGenerator\n",
        "from keras.regularizers import l2\n",
        "import matplotlib.pyplot as plt\n",
        "import random"
      ],
      "execution_count": null,
      "outputs": []
    },
    {
      "cell_type": "code",
      "metadata": {
        "id": "K4E5gSbwk1vP"
      },
      "source": [
        "densenet=DenseNet201(weights='imagenet',include_top=False,input_shape=(300,300,3))\n",
        "for layer in densenet.layers[:120]:\n",
        "  layer.trainable=False\n",
        "model=Sequential()\n",
        "model.add(densenet)\n",
        "model.add(Flatten())\n",
        "model.add(Dropout(0.5))\n",
        "model.add(Dense(512, activation='relu'))\n",
        "model.add(Dense(256,activation='relu',kernel_regularizer=l2(0.01),bias_regularizer=l2(0.01)))\n",
        "model.add(Dense(256, activation='softmax'))"
      ],
      "execution_count": null,
      "outputs": []
    },
    {
      "cell_type": "code",
      "metadata": {
        "id": "NCpKCA72jx4n"
      },
      "source": [
        "opt = keras.optimizers.Adam(learning_rate=1e-4)\n",
        "met=keras.metrics.TopKCategoricalAccuracy(k=1)\n",
        "model.compile(optimizer=opt,loss='categorical_crossentropy',metrics=met)\n"
      ],
      "execution_count": null,
      "outputs": []
    },
    {
      "cell_type": "code",
      "metadata": {
        "id": "n1TLK6Mbk-lR",
        "colab": {
          "base_uri": "https://localhost:8080/"
        },
        "outputId": "b7e058a4-0c60-4f79-f275-31dda6ea279c"
      },
      "source": [
        "dir1='/content/delphine/UECF_256'\n",
        "\n",
        "gen1=ImageDataGenerator(rescale= 1./255,width_shift_range=0.3,zoom_range=0.3,height_shift_range=0.2,rotation_range=30,validation_split=0.3)\n",
        "gen2=ImageDataGenerator(rescale=1./255,validation_split=0.3)\n",
        "\n",
        "training_data=gen1.flow_from_directory(dir1, batch_size=16, target_size=(300,300),shuffle=True,subset='training')\n",
        "validation_data=gen2.flow_from_directory(dir1, batch_size=16, target_size=(300,300), subset='validation')\n",
        "print(training_data.image_shape)"
      ],
      "execution_count": null,
      "outputs": [
        {
          "output_type": "stream",
          "text": [
            "Found 22089 images belonging to 256 classes.\n",
            "Found 9306 images belonging to 256 classes.\n",
            "(300, 300, 3)\n"
          ],
          "name": "stdout"
        }
      ]
    },
    {
      "cell_type": "code",
      "metadata": {
        "id": "VIFb1IYCk_no",
        "colab": {
          "base_uri": "https://localhost:8080/"
        },
        "outputId": "efc80b86-cb5b-475f-97ae-b2dd79c7736c"
      },
      "source": [
        "history=model.fit(training_data, epochs=40, verbose=1, validation_data=validation_data,steps_per_epoch=1190, validation_steps=800)"
      ],
      "execution_count": null,
      "outputs": [
        {
          "output_type": "stream",
          "text": [
            "Epoch 1/40\n",
            "1190/1190 [==============================] - 693s 582ms/step - loss: 6.4042 - top_k_categorical_accuracy: 0.0923 - val_loss: 4.8163 - val_top_k_categorical_accuracy: 0.2031\n",
            "Epoch 2/40\n",
            "1190/1190 [==============================] - 689s 579ms/step - loss: 3.6236 - top_k_categorical_accuracy: 0.2790 - val_loss: 3.3302 - val_top_k_categorical_accuracy: 0.3552\n",
            "Epoch 3/40\n",
            "1190/1190 [==============================] - 687s 578ms/step - loss: 2.7375 - top_k_categorical_accuracy: 0.4034 - val_loss: 3.0462 - val_top_k_categorical_accuracy: 0.4239\n",
            "Epoch 4/40\n",
            "1190/1190 [==============================] - 688s 578ms/step - loss: 2.2987 - top_k_categorical_accuracy: 0.4746 - val_loss: 2.9422 - val_top_k_categorical_accuracy: 0.4469\n",
            "Epoch 5/40\n",
            "1190/1190 [==============================] - 691s 581ms/step - loss: 2.0202 - top_k_categorical_accuracy: 0.5307 - val_loss: 2.9977 - val_top_k_categorical_accuracy: 0.4668\n",
            "Epoch 6/40\n",
            "1190/1190 [==============================] - 693s 582ms/step - loss: 1.8106 - top_k_categorical_accuracy: 0.5716 - val_loss: 2.7326 - val_top_k_categorical_accuracy: 0.4949\n",
            "Epoch 7/40\n",
            "1190/1190 [==============================] - 695s 584ms/step - loss: 1.6794 - top_k_categorical_accuracy: 0.5966 - val_loss: 2.6843 - val_top_k_categorical_accuracy: 0.5116\n",
            "Epoch 8/40\n",
            "1190/1190 [==============================] - 694s 583ms/step - loss: 1.4876 - top_k_categorical_accuracy: 0.6386 - val_loss: 2.8257 - val_top_k_categorical_accuracy: 0.5054\n",
            "Epoch 9/40\n",
            "1190/1190 [==============================] - 691s 581ms/step - loss: 1.3614 - top_k_categorical_accuracy: 0.6638 - val_loss: 2.8242 - val_top_k_categorical_accuracy: 0.5281\n",
            "Epoch 10/40\n",
            "1190/1190 [==============================] - 693s 582ms/step - loss: 1.2682 - top_k_categorical_accuracy: 0.6886 - val_loss: 2.8217 - val_top_k_categorical_accuracy: 0.5110\n",
            "Epoch 11/40\n",
            "1190/1190 [==============================] - 692s 581ms/step - loss: 1.1899 - top_k_categorical_accuracy: 0.7065 - val_loss: 3.1296 - val_top_k_categorical_accuracy: 0.4959\n",
            "Epoch 12/40\n",
            "1190/1190 [==============================] - 692s 581ms/step - loss: 1.1317 - top_k_categorical_accuracy: 0.7161 - val_loss: 2.8492 - val_top_k_categorical_accuracy: 0.5345\n",
            "Epoch 13/40\n",
            "1190/1190 [==============================] - 694s 583ms/step - loss: 1.0875 - top_k_categorical_accuracy: 0.7275 - val_loss: 2.8086 - val_top_k_categorical_accuracy: 0.5367\n",
            "Epoch 14/40\n",
            "1190/1190 [==============================] - 695s 584ms/step - loss: 1.0095 - top_k_categorical_accuracy: 0.7447 - val_loss: 3.2280 - val_top_k_categorical_accuracy: 0.5325\n",
            "Epoch 15/40\n",
            "1190/1190 [==============================] - 693s 583ms/step - loss: 0.9649 - top_k_categorical_accuracy: 0.7547 - val_loss: 2.9119 - val_top_k_categorical_accuracy: 0.5342\n",
            "Epoch 16/40\n",
            "1190/1190 [==============================] - 692s 581ms/step - loss: 0.9034 - top_k_categorical_accuracy: 0.7661 - val_loss: 2.9036 - val_top_k_categorical_accuracy: 0.5401\n",
            "Epoch 17/40\n",
            "1190/1190 [==============================] - 689s 579ms/step - loss: 0.8661 - top_k_categorical_accuracy: 0.7783 - val_loss: 3.0433 - val_top_k_categorical_accuracy: 0.5508\n",
            "Epoch 18/40\n",
            "1190/1190 [==============================] - 688s 578ms/step - loss: 0.8214 - top_k_categorical_accuracy: 0.7902 - val_loss: 3.0646 - val_top_k_categorical_accuracy: 0.5489\n",
            "Epoch 19/40\n",
            "1190/1190 [==============================] - 689s 579ms/step - loss: 0.8011 - top_k_categorical_accuracy: 0.7958 - val_loss: 3.1622 - val_top_k_categorical_accuracy: 0.5270\n",
            "Epoch 20/40\n",
            "1190/1190 [==============================] - 690s 580ms/step - loss: 0.7585 - top_k_categorical_accuracy: 0.8036 - val_loss: 3.0449 - val_top_k_categorical_accuracy: 0.5660\n",
            "Epoch 21/40\n",
            "1190/1190 [==============================] - 688s 578ms/step - loss: 0.7509 - top_k_categorical_accuracy: 0.8042 - val_loss: 3.1679 - val_top_k_categorical_accuracy: 0.5400\n",
            "Epoch 22/40\n",
            "1190/1190 [==============================] - 690s 580ms/step - loss: 0.7130 - top_k_categorical_accuracy: 0.8161 - val_loss: 2.9714 - val_top_k_categorical_accuracy: 0.5425\n",
            "Epoch 23/40\n",
            "1190/1190 [==============================] - 692s 581ms/step - loss: 0.6795 - top_k_categorical_accuracy: 0.8224 - val_loss: 3.2155 - val_top_k_categorical_accuracy: 0.5501\n",
            "Epoch 24/40\n",
            "1190/1190 [==============================] - 687s 577ms/step - loss: 0.6570 - top_k_categorical_accuracy: 0.8274 - val_loss: 3.1224 - val_top_k_categorical_accuracy: 0.5475\n",
            "Epoch 25/40\n",
            "1190/1190 [==============================] - 686s 576ms/step - loss: 0.6349 - top_k_categorical_accuracy: 0.8310 - val_loss: 3.3283 - val_top_k_categorical_accuracy: 0.5418\n",
            "Epoch 26/40\n",
            "1190/1190 [==============================] - 691s 580ms/step - loss: 0.6446 - top_k_categorical_accuracy: 0.8324 - val_loss: 3.2176 - val_top_k_categorical_accuracy: 0.5547\n",
            "Epoch 27/40\n",
            "1190/1190 [==============================] - 689s 579ms/step - loss: 0.5835 - top_k_categorical_accuracy: 0.8456 - val_loss: 3.2931 - val_top_k_categorical_accuracy: 0.5500\n",
            "Epoch 28/40\n",
            "1190/1190 [==============================] - 690s 580ms/step - loss: 0.5767 - top_k_categorical_accuracy: 0.8492 - val_loss: 3.2215 - val_top_k_categorical_accuracy: 0.5664\n",
            "Epoch 29/40\n",
            "1190/1190 [==============================] - 690s 580ms/step - loss: 0.5888 - top_k_categorical_accuracy: 0.8454 - val_loss: 3.2709 - val_top_k_categorical_accuracy: 0.5523\n",
            "Epoch 30/40\n",
            "1190/1190 [==============================] - 690s 580ms/step - loss: 0.5595 - top_k_categorical_accuracy: 0.8503 - val_loss: 3.0556 - val_top_k_categorical_accuracy: 0.5625\n",
            "Epoch 31/40\n",
            "1190/1190 [==============================] - 690s 580ms/step - loss: 0.5319 - top_k_categorical_accuracy: 0.8580 - val_loss: 3.3343 - val_top_k_categorical_accuracy: 0.5515\n",
            "Epoch 32/40\n",
            "1190/1190 [==============================] - 690s 580ms/step - loss: 0.5298 - top_k_categorical_accuracy: 0.8587 - val_loss: 3.5247 - val_top_k_categorical_accuracy: 0.5458\n",
            "Epoch 33/40\n",
            "1190/1190 [==============================] - 689s 579ms/step - loss: 0.5140 - top_k_categorical_accuracy: 0.8637 - val_loss: 3.2930 - val_top_k_categorical_accuracy: 0.5611\n",
            "Epoch 34/40\n",
            "1190/1190 [==============================] - 691s 581ms/step - loss: 0.5090 - top_k_categorical_accuracy: 0.8631 - val_loss: 3.2222 - val_top_k_categorical_accuracy: 0.5572\n",
            "Epoch 35/40\n",
            "1190/1190 [==============================] - 687s 578ms/step - loss: 0.4998 - top_k_categorical_accuracy: 0.8655 - val_loss: 3.4597 - val_top_k_categorical_accuracy: 0.5478\n",
            "Epoch 36/40\n",
            "1190/1190 [==============================] - 690s 580ms/step - loss: 0.4865 - top_k_categorical_accuracy: 0.8695 - val_loss: 3.5245 - val_top_k_categorical_accuracy: 0.5498\n",
            "Epoch 37/40\n",
            "1190/1190 [==============================] - 692s 581ms/step - loss: 0.4802 - top_k_categorical_accuracy: 0.8710 - val_loss: 3.4673 - val_top_k_categorical_accuracy: 0.5482\n",
            "Epoch 38/40\n",
            "1190/1190 [==============================] - 690s 580ms/step - loss: 0.4522 - top_k_categorical_accuracy: 0.8740 - val_loss: 3.6037 - val_top_k_categorical_accuracy: 0.5484\n",
            "Epoch 39/40\n",
            "1190/1190 [==============================] - 690s 580ms/step - loss: 0.4631 - top_k_categorical_accuracy: 0.8735 - val_loss: 3.5137 - val_top_k_categorical_accuracy: 0.5560\n",
            "Epoch 40/40\n",
            "1190/1190 [==============================] - 694s 583ms/step - loss: 0.4418 - top_k_categorical_accuracy: 0.8830 - val_loss: 3.5422 - val_top_k_categorical_accuracy: 0.5693\n"
          ],
          "name": "stdout"
        }
      ]
    }
  ]
}