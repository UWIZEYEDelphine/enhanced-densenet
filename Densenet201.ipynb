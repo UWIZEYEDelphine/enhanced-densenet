{
  "nbformat": 4,
  "nbformat_minor": 0,
  "metadata": {
    "colab": {
      "name": "Densenet201.ipynb",
      "provenance": [],
      "collapsed_sections": [],
      "authorship_tag": "ABX9TyM2OlM/ITe+lK9PRWI2Nmol",
      "include_colab_link": true
    },
    "kernelspec": {
      "name": "python3",
      "display_name": "Python 3"
    }
  },
  "cells": [
    {
      "cell_type": "markdown",
      "metadata": {
        "id": "view-in-github",
        "colab_type": "text"
      },
      "source": [
        "<a href=\"https://colab.research.google.com/github/UWIZEYEDelphine/enhanced-densenet/blob/main/Densenet201.ipynb\" target=\"_parent\"><img src=\"https://colab.research.google.com/assets/colab-badge.svg\" alt=\"Open In Colab\"/></a>"
      ]
    },
    {
      "cell_type": "code",
      "metadata": {
        "id": "zpAKugzVHZ9J"
      },
      "source": [
        "UEC FOOD256-CROPPED VERSION "
      ],
      "execution_count": null,
      "outputs": []
    },
    {
      "cell_type": "code",
      "metadata": {
        "id": "KulfJZDpHiX4"
      },
      "source": [
        "TOP1 ACCURACY FOR DENSENET201"
      ],
      "execution_count": null,
      "outputs": []
    },
    {
      "cell_type": "code",
      "metadata": {
        "id": "aIAAC2jwerFK"
      },
      "source": [
        "import keras\n",
        "from keras.applications.densenet import DenseNet201\n",
        "from keras.models import Sequential\n",
        "from keras.layers import Dense,Dropout, Flatten, Conv2D,MaxPool2D, BatchNormalization\n",
        "import numpy as np\n",
        "from keras.preprocessing.image import ImageDataGenerator"
      ],
      "execution_count": null,
      "outputs": []
    },
    {
      "cell_type": "code",
      "metadata": {
        "id": "Ui8ystO3euWp"
      },
      "source": [
        "from keras.regularizers import l2\n",
        "densenet=DenseNet201(weights='imagenet',include_top=False,input_shape=(300,300,3))\n",
        "for layer in densenet.layers[:120]:\n",
        "  layer.trainable=False\n",
        "model=Sequential()\n",
        "model.add(densenet)\n",
        "model.add(Flatten())\n",
        "model.add(Dropout(0.5))\n",
        "model.add(Dense(512, activation='relu'))\n",
        "model.add(Dense(256,activation='relu',kernel_regularizer=l2(0.01),bias_regularizer=l2(0.01)))\n",
        "model.add(Dense(256, activation='softmax'))"
      ],
      "execution_count": null,
      "outputs": []
    },
    {
      "cell_type": "code",
      "metadata": {
        "id": "3UdGwIGsexEg",
        "colab": {
          "base_uri": "https://localhost:8080/"
        },
        "outputId": "5ef49703-397c-45cd-ebb6-86db3342ef95"
      },
      "source": [
        "dir1='/content/delphine/UECF_256_CROP'\n",
        "\n",
        "gen1=ImageDataGenerator(rescale= 1./255,width_shift_range=0.3,zoom_range=0.3,height_shift_range=0.2,rotation_range=30,validation_split=0.4)\n",
        "gen2=ImageDataGenerator(rescale=1./255,validation_split=0.4)\n",
        "\n",
        "training_data=gen1.flow_from_directory(dir1, batch_size=16, target_size=(300,300),shuffle=True,subset='training')\n",
        "validation_data=gen2.flow_from_directory(dir1, batch_size=16, target_size=(300,300), subset='validation')\n",
        "print(training_data.image_shape)"
      ],
      "execution_count": null,
      "outputs": [
        {
          "output_type": "stream",
          "text": [
            "Found 18939 images belonging to 256 classes.\n",
            "Found 12456 images belonging to 256 classes.\n",
            "(300, 300, 3)\n"
          ],
          "name": "stdout"
        }
      ]
    },
    {
      "cell_type": "code",
      "metadata": {
        "id": "GwV58vCWez-v",
        "colab": {
          "base_uri": "https://localhost:8080/",
          "height": 1000
        },
        "outputId": "fa09cdbc-42c3-4be7-ac7e-6f985e0765bd"
      },
      "source": [
        "opt = keras.optimizers.Adam(learning_rate=1e-4)\n",
        "met=keras.metrics.TopKCategoricalAccuracy(k=1)\n",
        "model.compile(optimizer=opt,loss='categorical_crossentropy',metrics=met)\n",
        "history=model.fit(training_data, epochs=40, verbose=1, validation_data=validation_data,steps_per_epoch=1190, validation_steps=800)"
      ],
      "execution_count": null,
      "outputs": [
        {
          "output_type": "stream",
          "text": [
            "Epoch 1/40\n",
            "1190/1190 [==============================] - 1098s 922ms/step - loss: 6.1598 - top_k_categorical_accuracy: 0.1293 - val_loss: 4.1597 - val_top_k_categorical_accuracy: 0.2866\n",
            "Epoch 2/40\n",
            "1190/1190 [==============================] - 1072s 901ms/step - loss: 3.3381 - top_k_categorical_accuracy: 0.3391 - val_loss: 2.8485 - val_top_k_categorical_accuracy: 0.4467\n",
            "Epoch 3/40\n",
            "1190/1190 [==============================] - 1069s 898ms/step - loss: 2.4587 - top_k_categorical_accuracy: 0.4710 - val_loss: 2.8377 - val_top_k_categorical_accuracy: 0.4679\n",
            "Epoch 4/40\n",
            "1190/1190 [==============================] - 1127s 947ms/step - loss: 2.0392 - top_k_categorical_accuracy: 0.5474 - val_loss: 2.3898 - val_top_k_categorical_accuracy: 0.5483\n",
            "Epoch 5/40\n",
            "1190/1190 [==============================] - 1049s 881ms/step - loss: 1.7529 - top_k_categorical_accuracy: 0.6035 - val_loss: 2.4924 - val_top_k_categorical_accuracy: 0.5538\n",
            "Epoch 6/40\n",
            "1190/1190 [==============================] - 1054s 886ms/step - loss: 1.5593 - top_k_categorical_accuracy: 0.6400 - val_loss: 2.3816 - val_top_k_categorical_accuracy: 0.5759\n",
            "Epoch 7/40\n",
            "1190/1190 [==============================] - 1094s 919ms/step - loss: 1.3916 - top_k_categorical_accuracy: 0.6801 - val_loss: 2.3806 - val_top_k_categorical_accuracy: 0.5789\n",
            "Epoch 8/40\n",
            "1190/1190 [==============================] - 1080s 907ms/step - loss: 1.2649 - top_k_categorical_accuracy: 0.7076 - val_loss: 2.5554 - val_top_k_categorical_accuracy: 0.5730\n",
            "Epoch 9/40\n",
            "1190/1190 [==============================] - 1075s 903ms/step - loss: 1.1773 - top_k_categorical_accuracy: 0.7228 - val_loss: 2.2633 - val_top_k_categorical_accuracy: 0.6033\n",
            "Epoch 10/40\n",
            "1190/1190 [==============================] - 1096s 921ms/step - loss: 1.0609 - top_k_categorical_accuracy: 0.7505 - val_loss: 2.8930 - val_top_k_categorical_accuracy: 0.5691\n",
            "Epoch 11/40\n",
            "1190/1190 [==============================] - 1106s 929ms/step - loss: 0.9890 - top_k_categorical_accuracy: 0.7684 - val_loss: 2.3138 - val_top_k_categorical_accuracy: 0.6184\n",
            "Epoch 12/40\n",
            "1190/1190 [==============================] - 1060s 891ms/step - loss: 0.9267 - top_k_categorical_accuracy: 0.7830 - val_loss: 2.6059 - val_top_k_categorical_accuracy: 0.5891\n",
            "Epoch 13/40\n",
            "1190/1190 [==============================] - 1067s 896ms/step - loss: 0.8810 - top_k_categorical_accuracy: 0.7909 - val_loss: 2.4204 - val_top_k_categorical_accuracy: 0.6205\n",
            "Epoch 14/40\n",
            "1190/1190 [==============================] - 1047s 880ms/step - loss: 0.7935 - top_k_categorical_accuracy: 0.8110 - val_loss: 2.5961 - val_top_k_categorical_accuracy: 0.6045\n",
            "Epoch 15/40\n",
            "1190/1190 [==============================] - 1065s 895ms/step - loss: 0.7899 - top_k_categorical_accuracy: 0.8152 - val_loss: 2.6364 - val_top_k_categorical_accuracy: 0.6114\n",
            "Epoch 16/40\n",
            "1190/1190 [==============================] - 1080s 908ms/step - loss: 0.7446 - top_k_categorical_accuracy: 0.8235 - val_loss: 2.6629 - val_top_k_categorical_accuracy: 0.6036\n",
            "Epoch 17/40\n",
            "1190/1190 [==============================] - 1114s 936ms/step - loss: 0.7037 - top_k_categorical_accuracy: 0.8320 - val_loss: 2.8792 - val_top_k_categorical_accuracy: 0.6144\n",
            "Epoch 18/40\n",
            "1190/1190 [==============================] - 1116s 938ms/step - loss: 0.6753 - top_k_categorical_accuracy: 0.8406 - val_loss: 2.7377 - val_top_k_categorical_accuracy: 0.6098\n",
            "Epoch 19/40\n",
            "1190/1190 [==============================] - 1189s 999ms/step - loss: 0.6312 - top_k_categorical_accuracy: 0.8502 - val_loss: 2.8574 - val_top_k_categorical_accuracy: 0.6216\n",
            "Epoch 20/40\n",
            "1190/1190 [==============================] - 1069s 899ms/step - loss: 0.5969 - top_k_categorical_accuracy: 0.8609 - val_loss: 2.7292 - val_top_k_categorical_accuracy: 0.6245\n",
            "Epoch 21/40\n",
            "1190/1190 [==============================] - 1105s 928ms/step - loss: 0.5802 - top_k_categorical_accuracy: 0.8632 - val_loss: 2.8041 - val_top_k_categorical_accuracy: 0.6166\n",
            "Epoch 22/40\n",
            "1190/1190 [==============================] - 1109s 932ms/step - loss: 0.5821 - top_k_categorical_accuracy: 0.8625 - val_loss: 3.0186 - val_top_k_categorical_accuracy: 0.6202\n",
            "Epoch 23/40\n",
            "1190/1190 [==============================] - 1105s 929ms/step - loss: 0.5476 - top_k_categorical_accuracy: 0.8714 - val_loss: 2.5912 - val_top_k_categorical_accuracy: 0.6379\n",
            "Epoch 24/40\n",
            "1190/1190 [==============================] - 1083s 910ms/step - loss: 0.5325 - top_k_categorical_accuracy: 0.8729 - val_loss: 2.6861 - val_top_k_categorical_accuracy: 0.6417\n",
            "Epoch 25/40\n",
            "1190/1190 [==============================] - 1072s 901ms/step - loss: 0.5103 - top_k_categorical_accuracy: 0.8777 - val_loss: 2.8113 - val_top_k_categorical_accuracy: 0.6272\n",
            "Epoch 26/40\n",
            "1190/1190 [==============================] - 1065s 895ms/step - loss: 0.4743 - top_k_categorical_accuracy: 0.8900 - val_loss: 2.7142 - val_top_k_categorical_accuracy: 0.6312\n",
            "Epoch 27/40\n",
            "1190/1190 [==============================] - 1032s 867ms/step - loss: 0.4677 - top_k_categorical_accuracy: 0.8911 - val_loss: 2.8352 - val_top_k_categorical_accuracy: 0.6372\n",
            "Epoch 28/40\n",
            "1190/1190 [==============================] - 1071s 900ms/step - loss: 0.4550 - top_k_categorical_accuracy: 0.8900 - val_loss: 3.0565 - val_top_k_categorical_accuracy: 0.6134\n",
            "Epoch 29/40\n",
            "1190/1190 [==============================] - 1141s 959ms/step - loss: 0.4492 - top_k_categorical_accuracy: 0.8941 - val_loss: 2.6929 - val_top_k_categorical_accuracy: 0.6312\n",
            "Epoch 30/40\n",
            "1190/1190 [==============================] - 1088s 914ms/step - loss: 0.4355 - top_k_categorical_accuracy: 0.8986 - val_loss: 2.6111 - val_top_k_categorical_accuracy: 0.6479\n",
            "Epoch 31/40\n",
            "1190/1190 [==============================] - 1087s 914ms/step - loss: 0.4095 - top_k_categorical_accuracy: 0.9059 - val_loss: 2.7490 - val_top_k_categorical_accuracy: 0.6291\n",
            "Epoch 32/40\n",
            "1190/1190 [==============================] - 1115s 937ms/step - loss: 0.4149 - top_k_categorical_accuracy: 0.9026 - val_loss: 2.9508 - val_top_k_categorical_accuracy: 0.6284\n",
            "Epoch 33/40\n",
            "1190/1190 [==============================] - 1110s 933ms/step - loss: 0.3970 - top_k_categorical_accuracy: 0.9065 - val_loss: 2.7528 - val_top_k_categorical_accuracy: 0.6420\n",
            "Epoch 34/40\n",
            "1190/1190 [==============================] - 1080s 908ms/step - loss: 0.3803 - top_k_categorical_accuracy: 0.9088 - val_loss: 2.9633 - val_top_k_categorical_accuracy: 0.6356\n",
            "Epoch 35/40\n",
            "1190/1190 [==============================] - 1075s 903ms/step - loss: 0.3758 - top_k_categorical_accuracy: 0.9103 - val_loss: 2.9958 - val_top_k_categorical_accuracy: 0.6464\n",
            "Epoch 36/40\n",
            "1190/1190 [==============================] - 1205s 1s/step - loss: 0.3699 - top_k_categorical_accuracy: 0.9159 - val_loss: 2.9377 - val_top_k_categorical_accuracy: 0.6338\n",
            "Epoch 37/40\n",
            "1190/1190 [==============================] - 1052s 884ms/step - loss: 0.3541 - top_k_categorical_accuracy: 0.9173 - val_loss: 2.9233 - val_top_k_categorical_accuracy: 0.6290\n",
            "Epoch 38/40\n",
            "1190/1190 [==============================] - 1223s 1s/step - loss: 0.3477 - top_k_categorical_accuracy: 0.9182 - val_loss: 3.0383 - val_top_k_categorical_accuracy: 0.6394\n",
            "Epoch 39/40\n",
            "1190/1190 [==============================] - 1359s 1s/step - loss: 0.3458 - top_k_categorical_accuracy: 0.9192 - val_loss: 3.1007 - val_top_k_categorical_accuracy: 0.6276\n",
            "Epoch 40/40\n",
            "1190/1190 [==============================] - 1152s 968ms/step - loss: 0.3333 - top_k_categorical_accuracy: 0.9216 - val_loss: 2.9236 - val_top_k_categorical_accuracy: 0.6466\n"
          ],
          "name": "stdout"
        }
      ]
    },
    {
      "cell_type": "code",
      "metadata": {
        "id": "bPQCOBrY5pN8",
        "colab": {
          "base_uri": "https://localhost:8080/",
          "height": 34
        },
        "outputId": "8fe95953-baed-48fd-d8c3-9077f4a64b8b"
      },
      "source": [
        "from keras.models import save_model\n",
        "save_model(model,'/content/delphine/models/Densenet201-model')"
      ],
      "execution_count": null,
      "outputs": [
        {
          "output_type": "stream",
          "text": [
            "INFO:tensorflow:Assets written to: /content/delphine/models/Densenet201-model/assets\n"
          ],
          "name": "stdout"
        }
      ]
    },
    {
      "cell_type": "code",
      "metadata": {
        "id": "ipKUtlvDMqDW"
      },
      "source": [
        "from keras.models import load_model\n",
        "model= load_model('/content/delphine/models/Densenet201-model')"
      ],
      "execution_count": null,
      "outputs": []
    },
    {
      "cell_type": "code",
      "metadata": {
        "colab": {
          "base_uri": "https://localhost:8080/",
          "height": 945
        },
        "id": "wpN7AC7csFrP",
        "outputId": "080bc06f-c110-499b-ae66-0d2f9ff4b6b4"
      },
      "source": [
        "import tensorflow as tf\r\n",
        "\r\n",
        "# Convert the model\r\n",
        "converter = tf.lite.TFLiteConverter.from_saved_model('/content/delphine/models/Densenet201-model') # path to the SavedModel directory\r\n",
        "tflite_model = converter.convert()\r\n",
        "\r\n",
        "# Save the model.\r\n",
        "with open('model.tflite', 'wb') as f:\r\n",
        "  f.write(tflite_model)"
      ],
      "execution_count": null,
      "outputs": [
        {
          "output_type": "error",
          "ename": "TypeError",
          "evalue": "ignored",
          "traceback": [
            "\u001b[0;31m---------------------------------------------------------------------------\u001b[0m",
            "\u001b[0;31mTypeError\u001b[0m                                 Traceback (most recent call last)",
            "\u001b[0;32m<ipython-input-15-bf7dd6fe3086>\u001b[0m in \u001b[0;36m<module>\u001b[0;34m\u001b[0m\n\u001b[1;32m      2\u001b[0m \u001b[0;34m\u001b[0m\u001b[0m\n\u001b[1;32m      3\u001b[0m \u001b[0;31m# Convert the model\u001b[0m\u001b[0;34m\u001b[0m\u001b[0;34m\u001b[0m\u001b[0;34m\u001b[0m\u001b[0m\n\u001b[0;32m----> 4\u001b[0;31m \u001b[0mconverter\u001b[0m \u001b[0;34m=\u001b[0m \u001b[0mtf\u001b[0m\u001b[0;34m.\u001b[0m\u001b[0mlite\u001b[0m\u001b[0;34m.\u001b[0m\u001b[0mTFLiteConverter\u001b[0m\u001b[0;34m.\u001b[0m\u001b[0mfrom_saved_model\u001b[0m\u001b[0;34m(\u001b[0m\u001b[0mmodel\u001b[0m\u001b[0;34m)\u001b[0m \u001b[0;31m# path to the SavedModel directory\u001b[0m\u001b[0;34m\u001b[0m\u001b[0;34m\u001b[0m\u001b[0m\n\u001b[0m\u001b[1;32m      5\u001b[0m \u001b[0mtflite_model\u001b[0m \u001b[0;34m=\u001b[0m \u001b[0mconverter\u001b[0m\u001b[0;34m.\u001b[0m\u001b[0mconvert\u001b[0m\u001b[0;34m(\u001b[0m\u001b[0;34m)\u001b[0m\u001b[0;34m\u001b[0m\u001b[0;34m\u001b[0m\u001b[0m\n\u001b[1;32m      6\u001b[0m \u001b[0;34m\u001b[0m\u001b[0m\n",
            "\u001b[0;32m~/anaconda3/envs/jupyter/lib/python3.7/site-packages/tensorflow/lite/python/lite.py\u001b[0m in \u001b[0;36mfrom_saved_model\u001b[0;34m(cls, saved_model_dir, signature_keys, tags)\u001b[0m\n\u001b[1;32m    397\u001b[0m     \u001b[0;31m# in order to create a tf.estimator.Exporter that exports a TFLite model.\u001b[0m\u001b[0;34m\u001b[0m\u001b[0;34m\u001b[0m\u001b[0;34m\u001b[0m\u001b[0m\n\u001b[1;32m    398\u001b[0m     \u001b[0;32mwith\u001b[0m \u001b[0mcontext\u001b[0m\u001b[0;34m.\u001b[0m\u001b[0meager_mode\u001b[0m\u001b[0;34m(\u001b[0m\u001b[0;34m)\u001b[0m\u001b[0;34m:\u001b[0m\u001b[0;34m\u001b[0m\u001b[0;34m\u001b[0m\u001b[0m\n\u001b[0;32m--> 399\u001b[0;31m       \u001b[0msaved_model\u001b[0m \u001b[0;34m=\u001b[0m \u001b[0m_load\u001b[0m\u001b[0;34m(\u001b[0m\u001b[0msaved_model_dir\u001b[0m\u001b[0;34m,\u001b[0m \u001b[0mtags\u001b[0m\u001b[0;34m)\u001b[0m\u001b[0;34m\u001b[0m\u001b[0;34m\u001b[0m\u001b[0m\n\u001b[0m\u001b[1;32m    400\u001b[0m     \u001b[0;32mif\u001b[0m \u001b[0;32mnot\u001b[0m \u001b[0msignature_keys\u001b[0m\u001b[0;34m:\u001b[0m\u001b[0;34m\u001b[0m\u001b[0;34m\u001b[0m\u001b[0m\n\u001b[1;32m    401\u001b[0m       \u001b[0msignature_keys\u001b[0m \u001b[0;34m=\u001b[0m \u001b[0msaved_model\u001b[0m\u001b[0;34m.\u001b[0m\u001b[0msignatures\u001b[0m\u001b[0;34m\u001b[0m\u001b[0;34m\u001b[0m\u001b[0m\n",
            "\u001b[0;32m~/anaconda3/envs/jupyter/lib/python3.7/site-packages/tensorflow/python/saved_model/load.py\u001b[0m in \u001b[0;36mload\u001b[0;34m(export_dir, tags)\u001b[0m\n\u001b[1;32m    576\u001b[0m     \u001b[0mValueError\u001b[0m\u001b[0;34m:\u001b[0m \u001b[0mIf\u001b[0m\u001b[0;31m \u001b[0m\u001b[0;31m`\u001b[0m\u001b[0mtags\u001b[0m\u001b[0;31m`\u001b[0m \u001b[0mdon\u001b[0m\u001b[0;31m'\u001b[0m\u001b[0mt\u001b[0m \u001b[0mmatch\u001b[0m \u001b[0ma\u001b[0m \u001b[0mMetaGraph\u001b[0m \u001b[0;32min\u001b[0m \u001b[0mthe\u001b[0m \u001b[0mSavedModel\u001b[0m\u001b[0;34m.\u001b[0m\u001b[0;34m\u001b[0m\u001b[0;34m\u001b[0m\u001b[0m\n\u001b[1;32m    577\u001b[0m   \"\"\"\n\u001b[0;32m--> 578\u001b[0;31m   \u001b[0;32mreturn\u001b[0m \u001b[0mload_internal\u001b[0m\u001b[0;34m(\u001b[0m\u001b[0mexport_dir\u001b[0m\u001b[0;34m,\u001b[0m \u001b[0mtags\u001b[0m\u001b[0;34m)\u001b[0m\u001b[0;34m\u001b[0m\u001b[0;34m\u001b[0m\u001b[0m\n\u001b[0m\u001b[1;32m    579\u001b[0m \u001b[0;34m\u001b[0m\u001b[0m\n\u001b[1;32m    580\u001b[0m \u001b[0;34m\u001b[0m\u001b[0m\n",
            "\u001b[0;32m~/anaconda3/envs/jupyter/lib/python3.7/site-packages/tensorflow/python/saved_model/load.py\u001b[0m in \u001b[0;36mload_internal\u001b[0;34m(export_dir, tags, loader_cls)\u001b[0m\n\u001b[1;32m    586\u001b[0m     \u001b[0mtags\u001b[0m \u001b[0;34m=\u001b[0m \u001b[0mnest\u001b[0m\u001b[0;34m.\u001b[0m\u001b[0mflatten\u001b[0m\u001b[0;34m(\u001b[0m\u001b[0mtags\u001b[0m\u001b[0;34m)\u001b[0m\u001b[0;34m\u001b[0m\u001b[0;34m\u001b[0m\u001b[0m\n\u001b[1;32m    587\u001b[0m   saved_model_proto, debug_info = (\n\u001b[0;32m--> 588\u001b[0;31m       loader_impl.parse_saved_model_with_debug_info(export_dir))\n\u001b[0m\u001b[1;32m    589\u001b[0m \u001b[0;34m\u001b[0m\u001b[0m\n\u001b[1;32m    590\u001b[0m   if (len(saved_model_proto.meta_graphs) == 1 and\n",
            "\u001b[0;32m~/anaconda3/envs/jupyter/lib/python3.7/site-packages/tensorflow/python/saved_model/loader_impl.py\u001b[0m in \u001b[0;36mparse_saved_model_with_debug_info\u001b[0;34m(export_dir)\u001b[0m\n\u001b[1;32m     54\u001b[0m     \u001b[0mparsed\u001b[0m\u001b[0;34m.\u001b[0m \u001b[0mMissing\u001b[0m \u001b[0mgraph\u001b[0m \u001b[0mdebug\u001b[0m \u001b[0minfo\u001b[0m \u001b[0mfile\u001b[0m \u001b[0;32mis\u001b[0m \u001b[0mfine\u001b[0m\u001b[0;34m.\u001b[0m\u001b[0;34m\u001b[0m\u001b[0;34m\u001b[0m\u001b[0m\n\u001b[1;32m     55\u001b[0m   \"\"\"\n\u001b[0;32m---> 56\u001b[0;31m   \u001b[0msaved_model\u001b[0m \u001b[0;34m=\u001b[0m \u001b[0m_parse_saved_model\u001b[0m\u001b[0;34m(\u001b[0m\u001b[0mexport_dir\u001b[0m\u001b[0;34m)\u001b[0m\u001b[0;34m\u001b[0m\u001b[0;34m\u001b[0m\u001b[0m\n\u001b[0m\u001b[1;32m     57\u001b[0m \u001b[0;34m\u001b[0m\u001b[0m\n\u001b[1;32m     58\u001b[0m   debug_info_path = os.path.join(\n",
            "\u001b[0;32m~/anaconda3/envs/jupyter/lib/python3.7/site-packages/tensorflow/python/saved_model/loader_impl.py\u001b[0m in \u001b[0;36mparse_saved_model\u001b[0;34m(export_dir)\u001b[0m\n\u001b[1;32m     84\u001b[0m   \u001b[0;31m# Build the path to the SavedModel in pbtxt format.\u001b[0m\u001b[0;34m\u001b[0m\u001b[0;34m\u001b[0m\u001b[0;34m\u001b[0m\u001b[0m\n\u001b[1;32m     85\u001b[0m   path_to_pbtxt = os.path.join(\n\u001b[0;32m---> 86\u001b[0;31m       \u001b[0mcompat\u001b[0m\u001b[0;34m.\u001b[0m\u001b[0mas_bytes\u001b[0m\u001b[0;34m(\u001b[0m\u001b[0mexport_dir\u001b[0m\u001b[0;34m)\u001b[0m\u001b[0;34m,\u001b[0m\u001b[0;34m\u001b[0m\u001b[0;34m\u001b[0m\u001b[0m\n\u001b[0m\u001b[1;32m     87\u001b[0m       compat.as_bytes(constants.SAVED_MODEL_FILENAME_PBTXT))\n\u001b[1;32m     88\u001b[0m   \u001b[0;31m# Build the path to the SavedModel in pb format.\u001b[0m\u001b[0;34m\u001b[0m\u001b[0;34m\u001b[0m\u001b[0;34m\u001b[0m\u001b[0m\n",
            "\u001b[0;32m~/anaconda3/envs/jupyter/lib/python3.7/site-packages/tensorflow/python/util/compat.py\u001b[0m in \u001b[0;36mas_bytes\u001b[0;34m(bytes_or_text, encoding)\u001b[0m\n\u001b[1;32m     85\u001b[0m   \u001b[0;32melse\u001b[0m\u001b[0;34m:\u001b[0m\u001b[0;34m\u001b[0m\u001b[0;34m\u001b[0m\u001b[0m\n\u001b[1;32m     86\u001b[0m     raise TypeError('Expected binary or unicode string, got %r' %\n\u001b[0;32m---> 87\u001b[0;31m                     (bytes_or_text,))\n\u001b[0m\u001b[1;32m     88\u001b[0m \u001b[0;34m\u001b[0m\u001b[0m\n\u001b[1;32m     89\u001b[0m \u001b[0;34m\u001b[0m\u001b[0m\n",
            "\u001b[0;31mTypeError\u001b[0m: Expected binary or unicode string, got <tensorflow.python.keras.engine.sequential.Sequential object at 0x7f123e006810>"
          ]
        }
      ]
    },
    {
      "cell_type": "code",
      "metadata": {
        "id": "8T0sW-IyMDHg"
      },
      "source": [
        "import matplotlib.pyplot as plt\n",
        "\n",
        "plt.figure(figsize=(12, 6))\n",
        "plt.subplot(1, 2, 1)\n",
        "plt.plot(history.history['top_k_categorical_accuracy'])\n",
        "plt.plot(history.history['val_top_k_categorical_accuracy'])\n",
        "plt.title('model accuracy')\n",
        "plt.ylabel('accuracy')\n",
        "plt.xlabel('epoch')\n",
        "plt.legend(['train', 'val'], loc='upper left')\n",
        "\n",
        "plt.subplot(1, 2, 2)\n",
        "plt.plot(history.history['loss'])\n",
        "plt.plot(history.history['val_loss'])\n",
        "plt.title('model loss')\n",
        "plt.ylabel('accuracy')\n",
        "plt.xlabel('epoch')\n",
        "plt.legend(['train', 'val'], loc='upper left')\n",
        "plt.show()"
      ],
      "execution_count": null,
      "outputs": []
    },
    {
      "cell_type": "code",
      "metadata": {
        "id": "q6YOFkFRMgwe",
        "colab": {
          "base_uri": "https://localhost:8080/",
          "height": 231
        },
        "outputId": "743e9673-9fa3-4fdc-ff86-8f56a0d04ccf"
      },
      "source": [
        "import matplotlib.pyplot as plt\n",
        "plt.plot(history.history['accuracy'])\n",
        "plt.plot(history.history['val_accuracy'])\n",
        "plt.title('Model Accuracy')\n",
        "plt.ylabel('Accuracy')\n",
        "plt.xlabel('Epochs')\n",
        "plt.legend(['train', 'val'], loc='upper left')\n",
        "plt.show()"
      ],
      "execution_count": null,
      "outputs": [
        {
          "output_type": "error",
          "ename": "TypeError",
          "evalue": "ignored",
          "traceback": [
            "\u001b[0;31m---------------------------------------------------------------------------\u001b[0m",
            "\u001b[0;31mTypeError\u001b[0m                                 Traceback (most recent call last)",
            "\u001b[0;32m<ipython-input-11-358d74c5a5bb>\u001b[0m in \u001b[0;36m<module>\u001b[0;34m\u001b[0m\n\u001b[1;32m      1\u001b[0m \u001b[0;32mimport\u001b[0m \u001b[0mmatplotlib\u001b[0m\u001b[0;34m.\u001b[0m\u001b[0mpyplot\u001b[0m \u001b[0;32mas\u001b[0m \u001b[0mplt\u001b[0m\u001b[0;34m\u001b[0m\u001b[0;34m\u001b[0m\u001b[0m\n\u001b[1;32m      2\u001b[0m \u001b[0;34m\u001b[0m\u001b[0m\n\u001b[0;32m----> 3\u001b[0;31m \u001b[0mplt\u001b[0m\u001b[0;34m.\u001b[0m\u001b[0mplot\u001b[0m\u001b[0;34m(\u001b[0m\u001b[0mhistory\u001b[0m\u001b[0;34m.\u001b[0m\u001b[0mhistory\u001b[0m\u001b[0;34m[\u001b[0m\u001b[0;34m'accuracy'\u001b[0m\u001b[0;34m]\u001b[0m\u001b[0;34m)\u001b[0m\u001b[0;34m\u001b[0m\u001b[0;34m\u001b[0m\u001b[0m\n\u001b[0m\u001b[1;32m      4\u001b[0m \u001b[0mplt\u001b[0m\u001b[0;34m.\u001b[0m\u001b[0mplot\u001b[0m\u001b[0;34m(\u001b[0m\u001b[0mhistory\u001b[0m\u001b[0;34m.\u001b[0m\u001b[0mhistory\u001b[0m\u001b[0;34m[\u001b[0m\u001b[0;34m'val_accuracy'\u001b[0m\u001b[0;34m]\u001b[0m\u001b[0;34m)\u001b[0m\u001b[0;34m\u001b[0m\u001b[0;34m\u001b[0m\u001b[0m\n\u001b[1;32m      5\u001b[0m \u001b[0mplt\u001b[0m\u001b[0;34m.\u001b[0m\u001b[0mtitle\u001b[0m\u001b[0;34m(\u001b[0m\u001b[0;34m'Model Accuracy'\u001b[0m\u001b[0;34m)\u001b[0m\u001b[0;34m\u001b[0m\u001b[0;34m\u001b[0m\u001b[0m\n",
            "\u001b[0;31mTypeError\u001b[0m: 'NoneType' object is not subscriptable"
          ]
        }
      ]
    }
  ]
}