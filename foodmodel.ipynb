{
  "nbformat": 4,
  "nbformat_minor": 0,
  "metadata": {
    "colab": {
      "name": "foodmodel.ipynb",
      "provenance": [],
      "authorship_tag": "ABX9TyOWAaUqBntLZ5DJTeLXykZ5",
      "include_colab_link": true
    },
    "kernelspec": {
      "name": "python3",
      "display_name": "Python 3"
    },
    "accelerator": "GPU"
  },
  "cells": [
    {
      "cell_type": "markdown",
      "metadata": {
        "id": "view-in-github",
        "colab_type": "text"
      },
      "source": [
        "<a href=\"https://colab.research.google.com/github/UWIZEYEDelphine/enhanced-densenet/blob/main/foodmodel.ipynb\" target=\"_parent\"><img src=\"https://colab.research.google.com/assets/colab-badge.svg\" alt=\"Open In Colab\"/></a>"
      ]
    },
    {
      "cell_type": "code",
      "metadata": {
        "id": "PcUGvah4q20j",
        "colab": {
          "base_uri": "https://localhost:8080/"
        },
        "outputId": "7ccb4e18-f542-41c0-860c-3f43727f0776"
      },
      "source": [
        "%rm -rf <uef_60>"
      ],
      "execution_count": null,
      "outputs": [
        {
          "output_type": "stream",
          "text": [
            "/bin/bash: -c: line 0: syntax error near unexpected token `newline'\n",
            "/bin/bash: -c: line 0: `rm -rf <uef_60>'\n"
          ],
          "name": "stdout"
        }
      ]
    },
    {
      "cell_type": "code",
      "metadata": {
        "id": "dcRMt3HEUiaR"
      },
      "source": [
        "import numpy as np\r\n",
        "import pathlib\r\n",
        "import tensorflow as tf"
      ],
      "execution_count": null,
      "outputs": []
    },
    {
      "cell_type": "code",
      "metadata": {
        "id": "XbPxyd_0VR_6"
      },
      "source": [
        "densenet=tf.keras.applications.densenet.DenseNet201(weights='imagenet',include_top=False,input_shape=(300,300,3))\r\n",
        "for layer in densenet.layers[:120]:\r\n",
        "  layer.trainable=False\r\n",
        "model=tf.keras.Sequential([\r\n",
        "                  densenet,\r\n",
        "                  tf.keras.layers.Flatten(),\r\n",
        "                  tf.keras.layers.Dropout(0.5),\r\n",
        "                  tf.keras.layers.Dense(512, activation='relu'),\r\n",
        "                  tf.keras.layers.Dense(256,activation='relu',kernel_regularizer=tf.keras.regularizers.l2(0.01),bias_regularizer=tf.keras.regularizers.l2(0.01)),\r\n",
        "                  tf.keras.layers.Dense(256, activation='softmax'),\r\n",
        "                  \r\n",
        "])\r\n"
      ],
      "execution_count": null,
      "outputs": []
    },
    {
      "cell_type": "code",
      "metadata": {
        "colab": {
          "base_uri": "https://localhost:8080/"
        },
        "id": "oKiCf-0gW-Y4",
        "outputId": "8133107e-80d8-49b4-92e7-700ff8a5c2f1"
      },
      "source": [
        "dir1='/content/delphine/UECF_256_CROP'\r\n",
        "\r\n",
        "gen1=tf.keras.preprocessing.image.ImageDataGenerator(rescale= 1./255,width_shift_range=0.3,zoom_range=0.3,height_shift_range=0.2,rotation_range=30,validation_split=0.4)\r\n",
        "gen2=tf.keras.preprocessing.image.ImageDataGenerator(rescale=1./255,validation_split=0.4)\r\n",
        "\r\n",
        "training_data=gen1.flow_from_directory(dir1, batch_size=16, target_size=(300,300),shuffle=True,subset='training')\r\n",
        "validation_data=gen2.flow_from_directory(dir1, batch_size=16, target_size=(300,300), subset='validation')\r\n",
        "print(training_data.image_shape)"
      ],
      "execution_count": null,
      "outputs": [
        {
          "output_type": "stream",
          "text": [
            "Found 18939 images belonging to 256 classes.\n",
            "Found 12456 images belonging to 256 classes.\n",
            "(300, 300, 3)\n"
          ],
          "name": "stdout"
        }
      ]
    },
    {
      "cell_type": "code",
      "metadata": {
        "colab": {
          "base_uri": "https://localhost:8080/"
        },
        "id": "vls9m3NZW_JX",
        "outputId": "856279b6-aa0d-4bf3-c496-2e8447cb2e16"
      },
      "source": [
        "opt = tf.keras.optimizers.Adam(learning_rate=1e-4)\r\n",
        "met=tf.keras.metrics.TopKCategoricalAccuracy(k=1)\r\n",
        "model.compile(optimizer=opt,loss='categorical_crossentropy',metrics=met)\r\n",
        "history=model.fit(training_data, epochs=40, verbose=1, validation_data=validation_data,steps_per_epoch=1190, validation_steps=800)"
      ],
      "execution_count": null,
      "outputs": [
        {
          "output_type": "stream",
          "text": [
            "Epoch 1/40\n",
            "1190/1190 [==============================] - 894s 751ms/step - loss: 6.1616 - top_k_categorical_accuracy: 0.1388 - val_loss: 4.3072 - val_top_k_categorical_accuracy: 0.2677\n",
            "Epoch 2/40\n",
            "1190/1190 [==============================] - 622s 522ms/step - loss: 3.3445 - top_k_categorical_accuracy: 0.3535 - val_loss: 3.2825 - val_top_k_categorical_accuracy: 0.4155\n",
            "Epoch 3/40\n",
            "1190/1190 [==============================] - 619s 520ms/step - loss: 2.5111 - top_k_categorical_accuracy: 0.4667 - val_loss: 2.8779 - val_top_k_categorical_accuracy: 0.4804\n",
            "Epoch 4/40\n",
            "1190/1190 [==============================] - 620s 521ms/step - loss: 2.0736 - top_k_categorical_accuracy: 0.5453 - val_loss: 2.3073 - val_top_k_categorical_accuracy: 0.5442\n",
            "Epoch 5/40\n",
            "1190/1190 [==============================] - 621s 522ms/step - loss: 1.7873 - top_k_categorical_accuracy: 0.5967 - val_loss: 2.3712 - val_top_k_categorical_accuracy: 0.5630\n",
            "Epoch 6/40\n",
            "1190/1190 [==============================] - 621s 522ms/step - loss: 1.5732 - top_k_categorical_accuracy: 0.6442 - val_loss: 2.3271 - val_top_k_categorical_accuracy: 0.5757\n",
            "Epoch 7/40\n",
            "1190/1190 [==============================] - 621s 522ms/step - loss: 1.4147 - top_k_categorical_accuracy: 0.6795 - val_loss: 2.5008 - val_top_k_categorical_accuracy: 0.5861\n",
            "Epoch 8/40\n",
            "1190/1190 [==============================] - 621s 522ms/step - loss: 1.2892 - top_k_categorical_accuracy: 0.7072 - val_loss: 2.3811 - val_top_k_categorical_accuracy: 0.5874\n",
            "Epoch 9/40\n",
            "1190/1190 [==============================] - 622s 522ms/step - loss: 1.2002 - top_k_categorical_accuracy: 0.7210 - val_loss: 2.2615 - val_top_k_categorical_accuracy: 0.6100\n",
            "Epoch 10/40\n",
            "1190/1190 [==============================] - 618s 520ms/step - loss: 1.1078 - top_k_categorical_accuracy: 0.7442 - val_loss: 2.3238 - val_top_k_categorical_accuracy: 0.6086\n",
            "Epoch 11/40\n",
            "1190/1190 [==============================] - 621s 522ms/step - loss: 1.0006 - top_k_categorical_accuracy: 0.7671 - val_loss: 2.6601 - val_top_k_categorical_accuracy: 0.5864\n",
            "Epoch 12/40\n",
            "1190/1190 [==============================] - 622s 523ms/step - loss: 0.9408 - top_k_categorical_accuracy: 0.7785 - val_loss: 2.3066 - val_top_k_categorical_accuracy: 0.6237\n",
            "Epoch 13/40\n",
            "1190/1190 [==============================] - 619s 520ms/step - loss: 0.8944 - top_k_categorical_accuracy: 0.7901 - val_loss: 2.4627 - val_top_k_categorical_accuracy: 0.6288\n",
            "Epoch 14/40\n",
            "1190/1190 [==============================] - 619s 520ms/step - loss: 0.8414 - top_k_categorical_accuracy: 0.8029 - val_loss: 2.4802 - val_top_k_categorical_accuracy: 0.6276\n",
            "Epoch 15/40\n",
            "1190/1190 [==============================] - 621s 522ms/step - loss: 0.7678 - top_k_categorical_accuracy: 0.8224 - val_loss: 2.5506 - val_top_k_categorical_accuracy: 0.6124\n",
            "Epoch 16/40\n",
            "1190/1190 [==============================] - 620s 521ms/step - loss: 0.7473 - top_k_categorical_accuracy: 0.8275 - val_loss: 2.5127 - val_top_k_categorical_accuracy: 0.6299\n",
            "Epoch 17/40\n",
            "1190/1190 [==============================] - 617s 518ms/step - loss: 0.7115 - top_k_categorical_accuracy: 0.8319 - val_loss: 2.4051 - val_top_k_categorical_accuracy: 0.6395\n",
            "Epoch 18/40\n",
            "1190/1190 [==============================] - 619s 520ms/step - loss: 0.6831 - top_k_categorical_accuracy: 0.8415 - val_loss: 2.6192 - val_top_k_categorical_accuracy: 0.6183\n",
            "Epoch 19/40\n",
            "1190/1190 [==============================] - 618s 520ms/step - loss: 0.6334 - top_k_categorical_accuracy: 0.8515 - val_loss: 2.4615 - val_top_k_categorical_accuracy: 0.6306\n",
            "Epoch 20/40\n",
            "1190/1190 [==============================] - 619s 520ms/step - loss: 0.6292 - top_k_categorical_accuracy: 0.8551 - val_loss: 2.9644 - val_top_k_categorical_accuracy: 0.6065\n",
            "Epoch 21/40\n",
            "1190/1190 [==============================] - 621s 522ms/step - loss: 0.5942 - top_k_categorical_accuracy: 0.8608 - val_loss: 2.7085 - val_top_k_categorical_accuracy: 0.6400\n",
            "Epoch 22/40\n",
            "1190/1190 [==============================] - 618s 520ms/step - loss: 0.5799 - top_k_categorical_accuracy: 0.8636 - val_loss: 2.8120 - val_top_k_categorical_accuracy: 0.6117\n",
            "Epoch 23/40\n",
            "1190/1190 [==============================] - 619s 521ms/step - loss: 0.5456 - top_k_categorical_accuracy: 0.8726 - val_loss: 2.6201 - val_top_k_categorical_accuracy: 0.6437\n",
            "Epoch 24/40\n",
            "1190/1190 [==============================] - 620s 521ms/step - loss: 0.5313 - top_k_categorical_accuracy: 0.8758 - val_loss: 2.7358 - val_top_k_categorical_accuracy: 0.6240\n",
            "Epoch 25/40\n",
            "1190/1190 [==============================] - 619s 520ms/step - loss: 0.5235 - top_k_categorical_accuracy: 0.8802 - val_loss: 2.7615 - val_top_k_categorical_accuracy: 0.6317\n",
            "Epoch 26/40\n",
            "1190/1190 [==============================] - 619s 520ms/step - loss: 0.5036 - top_k_categorical_accuracy: 0.8819 - val_loss: 2.5773 - val_top_k_categorical_accuracy: 0.6505\n",
            "Epoch 27/40\n",
            "1190/1190 [==============================] - 620s 521ms/step - loss: 0.4832 - top_k_categorical_accuracy: 0.8879 - val_loss: 2.8662 - val_top_k_categorical_accuracy: 0.6337\n",
            "Epoch 28/40\n",
            "1190/1190 [==============================] - 618s 519ms/step - loss: 0.4582 - top_k_categorical_accuracy: 0.8916 - val_loss: 3.0574 - val_top_k_categorical_accuracy: 0.6196\n",
            "Epoch 29/40\n",
            "1190/1190 [==============================] - 619s 520ms/step - loss: 0.4510 - top_k_categorical_accuracy: 0.8956 - val_loss: 2.8529 - val_top_k_categorical_accuracy: 0.6352\n",
            "Epoch 30/40\n",
            "1190/1190 [==============================] - 618s 520ms/step - loss: 0.4414 - top_k_categorical_accuracy: 0.8968 - val_loss: 2.7178 - val_top_k_categorical_accuracy: 0.6397\n",
            "Epoch 31/40\n",
            "1190/1190 [==============================] - 619s 520ms/step - loss: 0.4360 - top_k_categorical_accuracy: 0.8976 - val_loss: 2.7369 - val_top_k_categorical_accuracy: 0.6397\n",
            "Epoch 32/40\n",
            "1190/1190 [==============================] - 619s 520ms/step - loss: 0.4045 - top_k_categorical_accuracy: 0.9058 - val_loss: 2.7923 - val_top_k_categorical_accuracy: 0.6458\n",
            "Epoch 33/40\n",
            "1190/1190 [==============================] - 620s 521ms/step - loss: 0.3975 - top_k_categorical_accuracy: 0.9084 - val_loss: 2.7957 - val_top_k_categorical_accuracy: 0.6412\n",
            "Epoch 34/40\n",
            "1190/1190 [==============================] - 620s 521ms/step - loss: 0.3931 - top_k_categorical_accuracy: 0.9083 - val_loss: 2.9319 - val_top_k_categorical_accuracy: 0.6313\n",
            "Epoch 35/40\n",
            "1190/1190 [==============================] - 620s 521ms/step - loss: 0.3919 - top_k_categorical_accuracy: 0.9076 - val_loss: 2.9512 - val_top_k_categorical_accuracy: 0.6295\n",
            "Epoch 36/40\n",
            "1190/1190 [==============================] - 621s 521ms/step - loss: 0.3908 - top_k_categorical_accuracy: 0.9085 - val_loss: 2.9169 - val_top_k_categorical_accuracy: 0.6438\n",
            "Epoch 37/40\n",
            "1190/1190 [==============================] - 618s 519ms/step - loss: 0.3600 - top_k_categorical_accuracy: 0.9165 - val_loss: 2.8246 - val_top_k_categorical_accuracy: 0.6517\n",
            "Epoch 38/40\n",
            "1190/1190 [==============================] - 619s 520ms/step - loss: 0.3633 - top_k_categorical_accuracy: 0.9152 - val_loss: 2.8507 - val_top_k_categorical_accuracy: 0.6363\n",
            "Epoch 39/40\n",
            "1190/1190 [==============================] - 618s 519ms/step - loss: 0.3475 - top_k_categorical_accuracy: 0.9175 - val_loss: 2.6980 - val_top_k_categorical_accuracy: 0.6415\n",
            "Epoch 40/40\n",
            "1190/1190 [==============================] - 620s 521ms/step - loss: 0.3406 - top_k_categorical_accuracy: 0.9203 - val_loss: 2.9771 - val_top_k_categorical_accuracy: 0.6355\n"
          ],
          "name": "stdout"
        }
      ]
    },
    {
      "cell_type": "code",
      "metadata": {
        "id": "rvGeNxAQTZUO"
      },
      "source": [
        "saved_model_dir = '/content/delphine/models/Densenet201-model2'\r\n",
        "tf.saved_model.save(model, saved_model_dir)"
      ],
      "execution_count": null,
      "outputs": []
    },
    {
      "cell_type": "code",
      "metadata": {
        "id": "dgOgJyZS8AWd"
      },
      "source": [
        "model= tf.keras.models.load_model('/content/delphine/models/Densenet201-model2')"
      ],
      "execution_count": null,
      "outputs": []
    },
    {
      "cell_type": "code",
      "metadata": {
        "id": "LwHlx1aO6U9f"
      },
      "source": [
        "converter = tf.lite.TFLiteConverter.from_saved_model('/content/delphine/models/Densenet201-model2')\r\n",
        "tflite_model = converter.convert()\r\n",
        "\r\n",
        "with open('/content/delphine/foodmodel.tflite', 'wb') as f:\r\n",
        "  f.write(tflite_model)"
      ],
      "execution_count": null,
      "outputs": []
    },
    {
      "cell_type": "code",
      "metadata": {
        "id": "HgMSKmjTXPLv"
      },
      "source": [
        "import os\r\n",
        "\r\n",
        "labels = '\\n'.join(sorted(training_data.class_indices.keys()))\r\n",
        "\r\n",
        "with open('/content/delphine/labels.txt', 'w') as f:\r\n",
        "  f.write(labels)"
      ],
      "execution_count": null,
      "outputs": []
    }
  ]
}